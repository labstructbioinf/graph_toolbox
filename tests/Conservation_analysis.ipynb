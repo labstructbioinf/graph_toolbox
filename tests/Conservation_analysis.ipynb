{
 "cells": [
  {
   "cell_type": "code",
   "execution_count": 10,
   "id": "c3bfabd2",
   "metadata": {},
   "outputs": [
    {
     "ename": "ImportError",
     "evalue": "cannot import name 'params' from 'parse' (/home/users/kkaminski/apps_common/graph_toolbox/tests/../../graph_toolbox/parse/__init__.py)",
     "output_type": "error",
     "traceback": [
      "\u001b[0;31m---------------------------------------------------------------------------\u001b[0m",
      "\u001b[0;31mImportError\u001b[0m                               Traceback (most recent call last)",
      "\u001b[0;32m/tmp/ipykernel_20777/2273134989.py\u001b[0m in \u001b[0;36m<module>\u001b[0;34m\u001b[0m\n\u001b[1;32m      5\u001b[0m \u001b[0;32mfrom\u001b[0m \u001b[0mparse\u001b[0m\u001b[0;34m.\u001b[0m\u001b[0mread_library_free\u001b[0m \u001b[0;32mimport\u001b[0m \u001b[0mread_pdb_basic\u001b[0m\u001b[0;34m,\u001b[0m \u001b[0mread_pdb\u001b[0m\u001b[0;34m\u001b[0m\u001b[0;34m\u001b[0m\u001b[0m\n\u001b[1;32m      6\u001b[0m \u001b[0;32mfrom\u001b[0m \u001b[0mparse\u001b[0m\u001b[0;34m.\u001b[0m\u001b[0matomium_utils\u001b[0m \u001b[0;32mimport\u001b[0m \u001b[0matomium_select\u001b[0m\u001b[0;34m,\u001b[0m \u001b[0matomium_chain_pdb_list\u001b[0m\u001b[0;34m\u001b[0m\u001b[0;34m\u001b[0m\u001b[0m\n\u001b[0;32m----> 7\u001b[0;31m \u001b[0;32mfrom\u001b[0m \u001b[0mparse\u001b[0m \u001b[0;32mimport\u001b[0m \u001b[0mparams\u001b[0m\u001b[0;34m\u001b[0m\u001b[0;34m\u001b[0m\u001b[0m\n\u001b[0m",
      "\u001b[0;31mImportError\u001b[0m: cannot import name 'params' from 'parse' (/home/users/kkaminski/apps_common/graph_toolbox/tests/../../graph_toolbox/parse/__init__.py)"
     ]
    }
   ],
   "source": [
    "import sys\n",
    "import atomium\n",
    "sys.path.append('../../graph_toolbox/')\n",
    "from feature import calc_named\n",
    "from parse.read_library_free import read_pdb_basic, read_pdb\n",
    "from parse.atomium_utils import atomium_select, atomium_chain_pdb_list"
   ]
  },
  {
   "cell_type": "markdown",
   "id": "5142d8c0",
   "metadata": {},
   "source": [
    "### Truncate sequences"
   ]
  },
  {
   "cell_type": "code",
   "execution_count": 2,
   "id": "9387ddfe-3a01-4335-ba80-23a3148e7bdf",
   "metadata": {},
   "outputs": [],
   "source": [
    "def ordered_atomium(path):\n",
    "    struct = atomium.open(path).model\n",
    "    pdb_list = atomium_chain_pdb_list(struct)\n",
    "    return atomium_select(struct, pdb_list=pdb_list, chain='A')"
   ]
  },
  {
   "cell_type": "code",
   "execution_count": 3,
   "id": "a3e5d67c-69a5-454d-8fb9-17d111ead2da",
   "metadata": {},
   "outputs": [],
   "source": [
    "p = 'data/6iii.pdb'"
   ]
  },
  {
   "cell_type": "code",
   "execution_count": 4,
   "id": "ae017e5e-fde7-4088-84f1-38d61a333db2",
   "metadata": {},
   "outputs": [
    {
     "name": "stdout",
     "output_type": "stream",
     "text": [
      "498 ms ± 3.87 ms per loop (mean ± std. dev. of 7 runs, 1 loop each)\n"
     ]
    }
   ],
   "source": [
    "%timeit ordered_atomium(p)"
   ]
  },
  {
   "cell_type": "code",
   "execution_count": 5,
   "id": "3a066665-7d63-4735-ab3d-ee319d4008e2",
   "metadata": {},
   "outputs": [
    {
     "name": "stdout",
     "output_type": "stream",
     "text": [
      "15.6 ms ± 11.8 µs per loop (mean ± std. dev. of 7 runs, 100 loops each)\n"
     ]
    }
   ],
   "source": [
    "%timeit read_pdb(p)"
   ]
  },
  {
   "cell_type": "code",
   "execution_count": 6,
   "id": "6b2b71c1",
   "metadata": {},
   "outputs": [
    {
     "name": "stdout",
     "output_type": "stream",
     "text": [
      "15.6 ms ± 13.2 µs per loop (mean ± std. dev. of 7 runs, 100 loops each)\n"
     ]
    }
   ],
   "source": [
    "%timeit read_pdb_basic(p)"
   ]
  },
  {
   "cell_type": "code",
   "execution_count": 7,
   "id": "5cb7587c",
   "metadata": {},
   "outputs": [],
   "source": [
    "arr, resname, atomresname = read_pdb(p)"
   ]
  },
  {
   "cell_type": "code",
   "execution_count": 16,
   "id": "416f1d20",
   "metadata": {},
   "outputs": [],
   "source": [
    "ca_xyz = [True if res == 'CA'  else False for res in atomresname]\n"
   ]
  },
  {
   "cell_type": "code",
   "execution_count": 20,
   "id": "8e6d5d73",
   "metadata": {},
   "outputs": [
    {
     "data": {
      "text/plain": [
       "(460, 3)"
      ]
     },
     "execution_count": 20,
     "metadata": {},
     "output_type": "execute_result"
    }
   ],
   "source": [
    "atprev = 'X'\n",
    "for at in atomresname:\n"
   ]
  },
  {
   "cell_type": "code",
   "execution_count": null,
   "id": "29d56033",
   "metadata": {},
   "outputs": [],
   "source": []
  }
 ],
 "metadata": {
  "kernelspec": {
   "display_name": "Python 3 (ipykernel)",
   "language": "python",
   "name": "python3"
  },
  "language_info": {
   "codemirror_mode": {
    "name": "ipython",
    "version": 3
   },
   "file_extension": ".py",
   "mimetype": "text/x-python",
   "name": "python",
   "nbconvert_exporter": "python",
   "pygments_lexer": "ipython3",
   "version": "3.9.7"
  }
 },
 "nbformat": 4,
 "nbformat_minor": 5
}
