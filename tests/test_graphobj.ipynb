{
 "cells": [
  {
   "cell_type": "code",
   "execution_count": 1,
   "metadata": {},
   "outputs": [
    {
     "name": "stdout",
     "output_type": "stream",
     "text": [
      "attempted relative import beyond top-level package\n"
     ]
    }
   ],
   "source": [
    "import sys\n",
    "\n",
    "sys.path.append(\"..\")\n",
    "import torch as th\n",
    "import itertools\n",
    "import atomium\n",
    "import pandas as pd\n",
    "\n",
    "from feature.base import GraphData"
   ]
  },
  {
   "cell_type": "code",
   "execution_count": 2,
   "metadata": {},
   "outputs": [],
   "source": [
    "\n",
    "dataset = \"/home/nfs/rmadaj/DeepSocket_prepare/data/feb24/feb24_full.pkl\"\n",
    "dataset = pd.read_pickle(dataset)\n",
    "#dataset = dataset[dataset.is_valid == True]"
   ]
  },
  {
   "cell_type": "code",
   "execution_count": 3,
   "metadata": {},
   "outputs": [],
   "source": [
    "r = th.rand((300, 3))\n",
    "norm = th.linalg.vector_norm(r, ord=2, dim=1)"
   ]
  },
  {
   "cell_type": "code",
   "execution_count": 5,
   "metadata": {},
   "outputs": [
    {
     "name": "stdout",
     "output_type": "stream",
     "text": [
      "number of residues is different then CA atoms 162 and 163\n",
      "1\n",
      "number of residues is different then CA atoms 157 and 159\n",
      "number of residues is different then CA atoms 162 and 164\n",
      "4\n",
      "5\n",
      "6\n",
      "7\n"
     ]
    },
    {
     "name": "stdout",
     "output_type": "stream",
     "text": [
      "8\n",
      "9\n",
      "10\n",
      "11\n",
      "12\n",
      "13\n",
      "14\n",
      "15\n",
      "16\n",
      "17\n",
      "18\n",
      "19\n",
      "20\n",
      "21\n",
      "22\n",
      "23\n",
      "24\n",
      "25\n",
      "26\n",
      "27\n",
      "28\n",
      "29\n",
      "30\n",
      "31\n",
      "32\n",
      "33\n",
      "34\n",
      "35\n",
      "36\n",
      "37\n",
      "38\n",
      "39\n",
      "40\n",
      "41\n",
      "42\n",
      "43\n",
      "44\n",
      "45\n",
      "46\n",
      "47\n",
      "48\n",
      "49\n",
      "50\n",
      "51\n",
      "52\n",
      "53\n",
      "54\n",
      "55\n",
      "56\n",
      "57\n",
      "58\n",
      "59\n",
      "60\n",
      "61\n",
      "62\n",
      "63\n",
      "64\n",
      "65\n",
      "66\n",
      "67\n",
      "68\n",
      "69\n",
      "70\n",
      "71\n",
      "72\n",
      "73\n",
      "74\n",
      "75\n",
      "76\n",
      "77\n",
      "78\n",
      "79\n",
      "80\n",
      "81\n",
      "82\n",
      "83\n",
      "split_with_sizes expects split_sizes to sum exactly to 4342 (input tensor's size at dimension 0), but got split_sizes=[5, 5, 8, 9, 7, 7, 8, 6, 4, 5, 7, 6, 5, 8, 7, 8, 11, 7, 7, 4, 9, 9, 7, 8, 7, 9, 4, 5, 5, 8, 9, 7, 7, 7, 11, 8, 10, 8, 8, 10, 9, 9, 9, 8, 5, 8, 6, 9, 7, 6, 10, 10, 7, 4, 8, 7, 7, 9, 6, 6, 7, 6, 10, 7, 7, 9, 4, 9, 5, 9, 4, 8, 12, 13, 7, 8, 8, 11, 5, 8, 10, 5, 7, 8, 8, 5, 5, 11, 5, 9, 4, 8, 7, 7, 7, 6, 6, 7, 6, 6, 10, 18, 12, 9, 7, 9, 9, 11, 11, 9, 6, 5, 4, 6, 10, 5, 8, 7, 7, 7, 9, 8, 8, 9, 5, 14, 6, 5, 7, 6, 10, 8, 8, 7, 7, 6, 8, 7, 7, 6, 9, 8, 9, 9, 4, 8, 5, 4, 7, 8, 8, 7, 4, 8, 8, 9, 5, 8, 5, 5, 9, 7, 7, 8, 5, 9, 5, 7, 7, 5, 7, 10, 6, 7, 8, 8, 5, 7, 12, 9, 7, 7, 8, 8, 5, 8, 5, 8, 9, 12, 9, 7, 6, 8, 11, 7, 10, 11, 11, 10, 8, 7, 6, 8, 8, 15, 6, 8, 9, 8, 8, 9, 8, 5, 9, 5, 11, 10, 8, 9, 7, 9, 8, 8, 6, 5, 7, 6, 10, 10, 11, 6, 7, 8, 6, 8, 7, 7, 7, 9, 6, 4, 9, 6, 10, 7, 9, 9, 8, 8, 5, 5, 8, 7, 4, 11, 7, 8, 8, 8, 5, 5, 12, 10, 8, 9, 6, 8, 4, 6, 10, 9, 4, 8, 5, 7, 5, 11, 7, 11, 8, 7, 8, 6, 7, 7, 6, 10, 9, 5, 5, 6, 5, 5, 8, 9, 7, 7, 8, 6, 4, 5, 7, 6, 5, 8, 7, 8, 11, 7, 7, 4, 9, 9, 7, 8, 7, 9, 4, 5, 5, 8, 9, 7, 7, 7, 11, 8, 10, 8, 8, 10, 9, 9, 9, 8, 5, 8, 6, 9, 7, 6, 10, 10, 7, 4, 8, 7, 7, 6, 6, 6, 7, 6, 10, 7, 7, 9, 4, 9, 5, 9, 4, 8, 12, 8, 7, 8, 8, 11, 5, 8, 10, 5, 7, 8, 8, 5, 5, 11, 5, 9, 4, 8, 7, 7, 7, 6, 6, 7, 6, 6, 10, 9, 6, 9, 7, 9, 9, 11, 11, 9, 6, 5, 4, 6, 10, 5, 16, 14, 14, 14, 10, 8, 8, 9, 5, 14, 6, 5, 7, 6, 10, 8, 8, 7, 7, 6, 8, 7, 7, 6, 9, 8, 9, 9, 4, 8, 5, 4, 7, 8, 8, 7, 4, 8, 8, 9, 5, 8, 5, 5, 9, 7, 7, 8, 5, 9, 5, 7, 7, 5, 7, 7, 6, 7, 8, 8, 5, 7, 12, 9, 7, 7, 8, 8, 5, 8, 5, 8, 9, 12, 15, 7, 6, 8, 11, 7, 10, 11, 11, 10, 8, 7, 6, 8, 8, 15, 6, 8, 9, 8, 8, 9, 8, 5, 9, 5, 11, 10, 8, 9, 7, 9, 8, 8, 6, 5, 7, 6, 10, 10, 11, 6, 7, 8, 6, 8, 7, 7, 7, 9, 6, 4, 6, 6, 10, 7, 9, 9, 8, 8, 5, 5, 8, 7, 4, 11, 7, 8, 8, 8, 5, 5, 12, 10, 8, 9, 6, 8, 4, 6, 10, 9, 4, 8, 5, 7, 5, 11, 7, 11, 8, 7, 8, 6, 7, 7, 6, 10, 9, 5, 5, 6]\n",
      "split_with_sizes expects split_sizes to sum exactly to 4342 (input tensor's size at dimension 0), but got split_sizes=[5, 5, 8, 9, 7, 7, 8, 6, 4, 5, 7, 6, 5, 8, 7, 8, 11, 7, 7, 4, 9, 9, 7, 8, 7, 9, 4, 5, 5, 8, 9, 7, 7, 7, 11, 8, 10, 8, 8, 10, 9, 9, 9, 8, 5, 8, 6, 9, 7, 6, 10, 10, 7, 4, 8, 7, 7, 9, 6, 6, 7, 6, 10, 7, 7, 9, 4, 9, 5, 9, 4, 8, 12, 13, 7, 8, 8, 11, 5, 8, 10, 5, 7, 8, 8, 5, 5, 11, 5, 9, 4, 8, 7, 7, 7, 6, 6, 7, 6, 6, 10, 18, 12, 9, 7, 9, 9, 11, 11, 9, 6, 5, 4, 6, 10, 5, 8, 7, 7, 7, 9, 8, 8, 9, 5, 14, 6, 5, 7, 6, 10, 8, 8, 7, 7, 6, 8, 7, 7, 6, 9, 8, 9, 9, 4, 8, 5, 4, 7, 8, 8, 7, 4, 8, 8, 9, 5, 8, 5, 5, 9, 7, 7, 8, 5, 9, 5, 7, 7, 5, 7, 10, 6, 7, 8, 8, 5, 7, 12, 9, 7, 7, 8, 8, 5, 8, 5, 8, 9, 12, 9, 7, 6, 8, 11, 7, 10, 11, 11, 10, 8, 7, 6, 8, 8, 15, 6, 8, 9, 8, 8, 9, 8, 5, 9, 5, 11, 10, 8, 9, 7, 9, 8, 8, 6, 5, 7, 6, 10, 10, 11, 6, 7, 8, 6, 8, 7, 7, 7, 9, 6, 4, 9, 6, 10, 7, 9, 9, 8, 8, 5, 5, 8, 7, 4, 11, 7, 8, 8, 8, 5, 5, 12, 10, 8, 9, 6, 8, 4, 6, 10, 9, 4, 8, 5, 7, 5, 11, 7, 11, 8, 7, 8, 6, 7, 7, 6, 10, 9, 5, 5, 6, 5, 5, 8, 9, 7, 7, 8, 6, 4, 5, 7, 6, 5, 8, 7, 8, 11, 7, 7, 4, 9, 9, 7, 8, 7, 9, 4, 5, 5, 8, 9, 7, 7, 7, 11, 8, 10, 8, 8, 10, 9, 9, 9, 8, 5, 8, 6, 9, 7, 6, 10, 10, 7, 4, 8, 7, 7, 6, 6, 6, 7, 6, 10, 7, 7, 9, 4, 9, 5, 9, 4, 8, 12, 8, 7, 8, 8, 11, 5, 8, 10, 5, 7, 8, 8, 5, 5, 11, 5, 9, 4, 8, 7, 7, 7, 6, 6, 7, 6, 6, 10, 9, 6, 9, 7, 9, 9, 11, 11, 9, 6, 5, 4, 6, 10, 5, 16, 14, 14, 14, 10, 8, 8, 9, 5, 14, 6, 5, 7, 6, 10, 8, 8, 7, 7, 6, 8, 7, 7, 6, 9, 8, 9, 9, 4, 8, 5, 4, 7, 8, 8, 7, 4, 8, 8, 9, 5, 8, 5, 5, 9, 7, 7, 8, 5, 9, 5, 7, 7, 5, 7, 7, 6, 7, 8, 8, 5, 7, 12, 9, 7, 7, 8, 8, 5, 8, 5, 8, 9, 12, 15, 7, 6, 8, 11, 7, 10, 11, 11, 10, 8, 7, 6, 8, 8, 15, 6, 8, 9, 8, 8, 9, 8, 5, 9, 5, 11, 10, 8, 9, 7, 9, 8, 8, 6, 5, 7, 6, 10, 10, 11, 6, 7, 8, 6, 8, 7, 7, 7, 9, 6, 4, 6, 6, 10, 7, 9, 9, 8, 8, 5, 5, 8, 7, 4, 11, 7, 8, 8, 8, 5, 5, 12, 10, 8, 9, 6, 8, 4, 6, 10, 9, 4, 8, 5, 7, 5, 11, 7, 11, 8, 7, 8, 6, 7, 7, 6, 10, 9, 5, 5, 6]\n",
      "86\n",
      "87\n",
      "88\n",
      "89\n"
     ]
    }
   ],
   "source": [
    "resdata = list()\n",
    "conndata = list()\n",
    "for idx, row in dataset.iterrows():\n",
    "    try:\n",
    "        gr = GraphData.from_pdb(row.path)\n",
    "    except Exception as e:\n",
    "        print(e)\n",
    "        continue\n",
    "    resdata.append(gr.to_nodedf())\n",
    "    conndata.append(gr.to_edgedf())\n",
    "    print(idx)\n",
    "    if idx > 88:\n",
    "        break"
   ]
  },
  {
   "cell_type": "code",
   "execution_count": null,
   "metadata": {},
   "outputs": [],
   "source": [
    "import torch as th\n",
    "from torch import linalg as LA\n",
    "\n",
    "ca = th.rand((156, 3))\n",
    "c = th.rand((156, 3))\n",
    "n = th.rand((156, 3))\n",
    "\n",
    "\n",
    "b1 = ca - c\n",
    "b2 = c.roll(1) - n.roll(1)\n",
    "b3 = n.roll(1) - ca.roll(1)\n",
    "n1 = th.cross(b1, b2)\n",
    "n1 /= LA.vector_norm(n1, ord=2, dim=1, keepdim=True)\n",
    "n2 = th.cross(b2, b3)\n",
    "n2 /= LA.vector_norm(n2, ord=2, dim=1, keepdim=True)\n",
    "# normalize b2 \n",
    "#b2 /= LA.vector_norm(b2, ord=2, dim=1, keepdim=True)\n",
    "#m1 = th.cross(n1, b2)\n",
    "#x = (n1 * n2).sum(1)\n",
    "#y = (m1 * n2).sum(1)\n",
    "b_cross23 = th.cross(b2, b3)\n",
    "b_cross12 = th.cross(b1, b2)\n",
    "b2_norm = LA.vector_norm(b2, ord=2, dim=1, keepdim=True)\n",
    "b_cross1223 = (b_cross12*b_cross23).sum(1, keepdim=True).sqrt()\n",
    "b21 = b2_norm*(b1*b_cross23).sum(1, keepdim=True).sqrt()\n",
    "dihedral = th.atan2(b21, b_cross1223)\n",
    "phi = dihedral\n",
    "psi = dihedral.roll(1)\n",
    "# fill borders\n",
    "phi[0] = 0\n",
    "psi[0] = 0"
   ]
  },
  {
   "cell_type": "code",
   "execution_count": null,
   "metadata": {},
   "outputs": [
    {
     "data": {
      "text/plain": [
       "(torch.Size([156, 1]),\n",
       " torch.Size([156, 1]),\n",
       " torch.Size([156, 1]),\n",
       " torch.Size([156, 1]),\n",
       " torch.Size([156, 1]))"
      ]
     },
     "execution_count": 21,
     "metadata": {},
     "output_type": "execute_result"
    }
   ],
   "source": [
    "psi.shape, psi.shape, b21.shape, b_cross1223.shape, th.atan2(b21, b_cross1223).shape"
   ]
  },
  {
   "cell_type": "code",
   "execution_count": null,
   "metadata": {},
   "outputs": [
    {
     "ename": "AttributeError",
     "evalue": "'tuple' object has no attribute 'sum'",
     "output_type": "error",
     "traceback": [
      "\u001b[0;31m---------------------------------------------------------------------------\u001b[0m",
      "\u001b[0;31mAttributeError\u001b[0m                            Traceback (most recent call last)",
      "Cell \u001b[0;32mIn[19], line 1\u001b[0m\n\u001b[0;32m----> 1\u001b[0m \u001b[43m(\u001b[49m\u001b[43mb_cross12\u001b[49m\u001b[43m,\u001b[49m\u001b[43m \u001b[49m\u001b[43mb_cross23\u001b[49m\u001b[43m)\u001b[49m\u001b[38;5;241;43m.\u001b[39;49m\u001b[43msum\u001b[49m(\u001b[38;5;241m1\u001b[39m, keepdim\u001b[38;5;241m=\u001b[39m\u001b[38;5;28;01mTrue\u001b[39;00m)\n",
      "\u001b[0;31mAttributeError\u001b[0m: 'tuple' object has no attribute 'sum'"
     ]
    }
   ],
   "source": [
    "(b_cross12, b_cross23).sum(1, keepdim=True)"
   ]
  },
  {
   "cell_type": "code",
   "execution_count": null,
   "metadata": {},
   "outputs": [
    {
     "ename": "RuntimeError",
     "evalue": "1D tensors expected, but got 2D and 2D tensors",
     "output_type": "error",
     "traceback": [
      "\u001b[0;31m---------------------------------------------------------------------------\u001b[0m",
      "\u001b[0;31mRuntimeError\u001b[0m                              Traceback (most recent call last)",
      "Cell \u001b[0;32mIn[8], line 1\u001b[0m\n\u001b[0;32m----> 1\u001b[0m b2_norm\u001b[38;5;241m.\u001b[39mshape, \u001b[43mth\u001b[49m\u001b[38;5;241;43m.\u001b[39;49m\u001b[43mdot\u001b[49m\u001b[43m(\u001b[49m\u001b[43mb1\u001b[49m\u001b[43m,\u001b[49m\u001b[43m \u001b[49m\u001b[43mb_cross23\u001b[49m\u001b[43m)\u001b[49m\u001b[38;5;241m.\u001b[39mshape, b1\u001b[38;5;241m.\u001b[39mshape\n",
      "\u001b[0;31mRuntimeError\u001b[0m: 1D tensors expected, but got 2D and 2D tensors"
     ]
    }
   ],
   "source": [
    "b2_norm.shape, th.dot(b1, b_cross23).shape, b1.shape"
   ]
  },
  {
   "cell_type": "code",
   "execution_count": null,
   "metadata": {},
   "outputs": [
    {
     "data": {
      "text/plain": [
       "torch.Size([156, 3])"
      ]
     },
     "execution_count": 11,
     "metadata": {},
     "output_type": "execute_result"
    }
   ],
   "source": [
    "b_cross23.shape"
   ]
  },
  {
   "cell_type": "code",
   "execution_count": 7,
   "metadata": {},
   "outputs": [],
   "source": [
    "resdf = pd.concat(resdata, ignore_index=True)"
   ]
  },
  {
   "cell_type": "code",
   "execution_count": 9,
   "metadata": {},
   "outputs": [
    {
     "data": {
      "text/plain": [
       "(-3.14, 3.14)"
      ]
     },
     "execution_count": 9,
     "metadata": {},
     "output_type": "execute_result"
    },
    {
     "data": {
      "image/png": "[encoded data removed]",
      "text/plain": [
       "<Figure size 640x480 with 1 Axes>"
      ]
     },
     "metadata": {},
     "output_type": "display_data"
    }
   ],
   "source": [
    "import matplotlib.pyplot as plt\n",
    "\n",
    "\n",
    "plt.scatter(resdf.phi, resdf.psi)\n",
    "plt.xlim([-3.14, 3.14])\n",
    "plt.ylim([-3.14, 3.14])"
   ]
  },
  {
   "cell_type": "code",
   "execution_count": null,
   "metadata": {},
   "outputs": [
    {
     "data": {
      "text/html": [
       "<div>\n",
       "<style scoped>\n",
       "    .dataframe tbody tr th:only-of-type {\n",
       "        vertical-align: middle;\n",
       "    }\n",
       "\n",
       "    .dataframe tbody tr th {\n",
       "        vertical-align: top;\n",
       "    }\n",
       "\n",
       "    .dataframe thead th {\n",
       "        text-align: right;\n",
       "    }\n",
       "</style>\n",
       "<table border=\"1\" class=\"dataframe\">\n",
       "  <thead>\n",
       "    <tr style=\"text-align: right;\">\n",
       "      <th></th>\n",
       "      <th>phi</th>\n",
       "      <th>psi</th>\n",
       "      <th>chi1</th>\n",
       "      <th>chi2</th>\n",
       "      <th>residue</th>\n",
       "    </tr>\n",
       "  </thead>\n",
       "  <tbody>\n",
       "    <tr>\n",
       "      <th>0</th>\n",
       "      <td>0.000000</td>\n",
       "      <td>0.000000</td>\n",
       "      <td>0.000000</td>\n",
       "      <td>0.000000</td>\n",
       "      <td>MET</td>\n",
       "    </tr>\n",
       "    <tr>\n",
       "      <th>1</th>\n",
       "      <td>2.993855</td>\n",
       "      <td>-1.543115</td>\n",
       "      <td>NaN</td>\n",
       "      <td>NaN</td>\n",
       "      <td>VAL</td>\n",
       "    </tr>\n",
       "    <tr>\n",
       "      <th>2</th>\n",
       "      <td>0.329229</td>\n",
       "      <td>2.993855</td>\n",
       "      <td>NaN</td>\n",
       "      <td>NaN</td>\n",
       "      <td>LEU</td>\n",
       "    </tr>\n",
       "    <tr>\n",
       "      <th>3</th>\n",
       "      <td>-2.820583</td>\n",
       "      <td>0.329229</td>\n",
       "      <td>NaN</td>\n",
       "      <td>NaN</td>\n",
       "      <td>SER</td>\n",
       "    </tr>\n",
       "    <tr>\n",
       "      <th>4</th>\n",
       "      <td>1.696506</td>\n",
       "      <td>-2.820583</td>\n",
       "      <td>NaN</td>\n",
       "      <td>NaN</td>\n",
       "      <td>GLU</td>\n",
       "    </tr>\n",
       "    <tr>\n",
       "      <th>...</th>\n",
       "      <td>...</td>\n",
       "      <td>...</td>\n",
       "      <td>...</td>\n",
       "      <td>...</td>\n",
       "      <td>...</td>\n",
       "    </tr>\n",
       "    <tr>\n",
       "      <th>18262</th>\n",
       "      <td>-1.151830</td>\n",
       "      <td>1.491983</td>\n",
       "      <td>0.357584</td>\n",
       "      <td>2.183325</td>\n",
       "      <td>GLN</td>\n",
       "    </tr>\n",
       "    <tr>\n",
       "      <th>18263</th>\n",
       "      <td>-2.267871</td>\n",
       "      <td>-1.151830</td>\n",
       "      <td>-0.563003</td>\n",
       "      <td>0.357584</td>\n",
       "      <td>TYR</td>\n",
       "    </tr>\n",
       "    <tr>\n",
       "      <th>18264</th>\n",
       "      <td>2.595466</td>\n",
       "      <td>-2.267871</td>\n",
       "      <td>1.444414</td>\n",
       "      <td>-0.563003</td>\n",
       "      <td>LEU</td>\n",
       "    </tr>\n",
       "    <tr>\n",
       "      <th>18265</th>\n",
       "      <td>1.570211</td>\n",
       "      <td>2.595466</td>\n",
       "      <td>1.747484</td>\n",
       "      <td>1.444414</td>\n",
       "      <td>PHE</td>\n",
       "    </tr>\n",
       "    <tr>\n",
       "      <th>18266</th>\n",
       "      <td>-2.723115</td>\n",
       "      <td>1.570211</td>\n",
       "      <td>NaN</td>\n",
       "      <td>1.747484</td>\n",
       "      <td>ALA</td>\n",
       "    </tr>\n",
       "  </tbody>\n",
       "</table>\n",
       "<p>18267 rows × 5 columns</p>\n",
       "</div>"
      ],
      "text/plain": [
       "            phi       psi      chi1      chi2 residue\n",
       "0      0.000000  0.000000  0.000000  0.000000     MET\n",
       "1      2.993855 -1.543115       NaN       NaN     VAL\n",
       "2      0.329229  2.993855       NaN       NaN     LEU\n",
       "3     -2.820583  0.329229       NaN       NaN     SER\n",
       "4      1.696506 -2.820583       NaN       NaN     GLU\n",
       "...         ...       ...       ...       ...     ...\n",
       "18262 -1.151830  1.491983  0.357584  2.183325     GLN\n",
       "18263 -2.267871 -1.151830 -0.563003  0.357584     TYR\n",
       "18264  2.595466 -2.267871  1.444414 -0.563003     LEU\n",
       "18265  1.570211  2.595466  1.747484  1.444414     PHE\n",
       "18266 -2.723115  1.570211       NaN  1.747484     ALA\n",
       "\n",
       "[18267 rows x 5 columns]"
      ]
     },
     "execution_count": 8,
     "metadata": {},
     "output_type": "execute_result"
    }
   ],
   "source": [
    "resdf"
   ]
  },
  {
   "cell_type": "code",
   "execution_count": null,
   "metadata": {},
   "outputs": [],
   "source": []
  }
 ],
 "metadata": {
  "kernelspec": {
   "display_name": "ds",
   "language": "python",
   "name": "python3"
  },
  "language_info": {
   "codemirror_mode": {
    "name": "ipython",
    "version": 3
   },
   "file_extension": ".py",
   "mimetype": "text/x-python",
   "name": "python",
   "nbconvert_exporter": "python",
   "pygments_lexer": "ipython3",
   "version": "3.10.13"
  }
 },
 "nbformat": 4,
 "nbformat_minor": 2
}
