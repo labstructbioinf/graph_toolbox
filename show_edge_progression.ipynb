{
 "cells": [
  {
   "cell_type": "code",
   "execution_count": 1,
   "id": "remarkable-colombia",
   "metadata": {},
   "outputs": [
    {
     "name": "stderr",
     "output_type": "stream",
     "text": [
      "Using backend: pytorch\n"
     ]
    }
   ],
   "source": [
    "import dgl\n",
    "import torch as th\n",
    "from torch import nn"
   ]
  },
  {
   "cell_type": "code",
   "execution_count": 2,
   "id": "integral-climb",
   "metadata": {},
   "outputs": [],
   "source": [
    "net = dgl.nn.conv.GATConv(20, 10, 2)"
   ]
  },
  {
   "cell_type": "code",
   "execution_count": 35,
   "id": "interesting-borough",
   "metadata": {},
   "outputs": [],
   "source": [
    "adj = th.rand((40, 40))\n",
    "u, v = th.nonzero(adj > 0.5, as_tuple=True)\n",
    "g = dgl.graph((u, v))\n",
    "h = th.rand((40, 20))\n",
    "g.ndata['tmp'] = h\n",
    "batch = dgl.batch([g for _ in range(32)])\n",
    "batch_h = batch.ndata['tmp']"
   ]
  },
  {
   "cell_type": "code",
   "execution_count": 36,
   "id": "boxed-lyric",
   "metadata": {},
   "outputs": [],
   "source": [
    "h_out, attn = net(g, h, get_attention =True)\n",
    "attn.squeeze()"
   ]
  },
  {
   "cell_type": "code",
   "execution_count": 37,
   "id": "elect-plane",
   "metadata": {},
   "outputs": [],
   "source": [
    "h_out, attn = net(batch, batch_h, get_attention = True)\n",
    "batch.edata['_tmp_attn'] = attn\n",
    "batch_list_attn = []"
   ]
  },
  {
   "cell_type": "code",
   "execution_count": 40,
   "id": "horizontal-station",
   "metadata": {},
   "outputs": [],
   "source": [
    "edges_per_g = batch.batch_num_edges()\n",
    "edges_last_index = edges_per_g.cumsum(0)\n",
    "edges_first_index = edges_last_index - edges_per_g[0]"
   ]
  },
  {
   "cell_type": "code",
   "execution_count": 41,
   "id": "flying-steal",
   "metadata": {},
   "outputs": [],
   "source": [
    "attn_list = [attn[start:stop] for start, stop in zip(edges_first_index, edges_last_index)]"
   ]
  },
  {
   "cell_type": "code",
   "execution_count": 43,
   "id": "standard-california",
   "metadata": {},
   "outputs": [
    {
     "data": {
      "text/plain": [
       "torch.Size([765, 2, 1])"
      ]
     },
     "execution_count": 43,
     "metadata": {},
     "output_type": "execute_result"
    }
   ],
   "source": [
    "attn_list[0]."
   ]
  },
  {
   "cell_type": "code",
   "execution_count": 24,
   "id": "liked-rally",
   "metadata": {},
   "outputs": [
    {
     "data": {
      "text/plain": [
       "[<bound method DGLHeteroGraph.num_edges of Graph(num_nodes=40, num_edges=804,\n",
       "       ndata_schemes={'tmp': Scheme(shape=(20,), dtype=torch.float32)}\n",
       "       edata_schemes={})>,\n",
       " <bound method DGLHeteroGraph.num_edges of Graph(num_nodes=40, num_edges=804,\n",
       "       ndata_schemes={'tmp': Scheme(shape=(20,), dtype=torch.float32)}\n",
       "       edata_schemes={})>,\n",
       " <bound method DGLHeteroGraph.num_edges of Graph(num_nodes=40, num_edges=804,\n",
       "       ndata_schemes={'tmp': Scheme(shape=(20,), dtype=torch.float32)}\n",
       "       edata_schemes={})>,\n",
       " <bound method DGLHeteroGraph.num_edges of Graph(num_nodes=40, num_edges=804,\n",
       "       ndata_schemes={'tmp': Scheme(shape=(20,), dtype=torch.float32)}\n",
       "       edata_schemes={})>,\n",
       " <bound method DGLHeteroGraph.num_edges of Graph(num_nodes=40, num_edges=804,\n",
       "       ndata_schemes={'tmp': Scheme(shape=(20,), dtype=torch.float32)}\n",
       "       edata_schemes={})>,\n",
       " <bound method DGLHeteroGraph.num_edges of Graph(num_nodes=40, num_edges=804,\n",
       "       ndata_schemes={'tmp': Scheme(shape=(20,), dtype=torch.float32)}\n",
       "       edata_schemes={})>,\n",
       " <bound method DGLHeteroGraph.num_edges of Graph(num_nodes=40, num_edges=804,\n",
       "       ndata_schemes={'tmp': Scheme(shape=(20,), dtype=torch.float32)}\n",
       "       edata_schemes={})>,\n",
       " <bound method DGLHeteroGraph.num_edges of Graph(num_nodes=40, num_edges=804,\n",
       "       ndata_schemes={'tmp': Scheme(shape=(20,), dtype=torch.float32)}\n",
       "       edata_schemes={})>,\n",
       " <bound method DGLHeteroGraph.num_edges of Graph(num_nodes=40, num_edges=804,\n",
       "       ndata_schemes={'tmp': Scheme(shape=(20,), dtype=torch.float32)}\n",
       "       edata_schemes={})>,\n",
       " <bound method DGLHeteroGraph.num_edges of Graph(num_nodes=40, num_edges=804,\n",
       "       ndata_schemes={'tmp': Scheme(shape=(20,), dtype=torch.float32)}\n",
       "       edata_schemes={})>,\n",
       " <bound method DGLHeteroGraph.num_edges of Graph(num_nodes=40, num_edges=804,\n",
       "       ndata_schemes={'tmp': Scheme(shape=(20,), dtype=torch.float32)}\n",
       "       edata_schemes={})>,\n",
       " <bound method DGLHeteroGraph.num_edges of Graph(num_nodes=40, num_edges=804,\n",
       "       ndata_schemes={'tmp': Scheme(shape=(20,), dtype=torch.float32)}\n",
       "       edata_schemes={})>,\n",
       " <bound method DGLHeteroGraph.num_edges of Graph(num_nodes=40, num_edges=804,\n",
       "       ndata_schemes={'tmp': Scheme(shape=(20,), dtype=torch.float32)}\n",
       "       edata_schemes={})>,\n",
       " <bound method DGLHeteroGraph.num_edges of Graph(num_nodes=40, num_edges=804,\n",
       "       ndata_schemes={'tmp': Scheme(shape=(20,), dtype=torch.float32)}\n",
       "       edata_schemes={})>,\n",
       " <bound method DGLHeteroGraph.num_edges of Graph(num_nodes=40, num_edges=804,\n",
       "       ndata_schemes={'tmp': Scheme(shape=(20,), dtype=torch.float32)}\n",
       "       edata_schemes={})>,\n",
       " <bound method DGLHeteroGraph.num_edges of Graph(num_nodes=40, num_edges=804,\n",
       "       ndata_schemes={'tmp': Scheme(shape=(20,), dtype=torch.float32)}\n",
       "       edata_schemes={})>,\n",
       " <bound method DGLHeteroGraph.num_edges of Graph(num_nodes=40, num_edges=804,\n",
       "       ndata_schemes={'tmp': Scheme(shape=(20,), dtype=torch.float32)}\n",
       "       edata_schemes={})>,\n",
       " <bound method DGLHeteroGraph.num_edges of Graph(num_nodes=40, num_edges=804,\n",
       "       ndata_schemes={'tmp': Scheme(shape=(20,), dtype=torch.float32)}\n",
       "       edata_schemes={})>,\n",
       " <bound method DGLHeteroGraph.num_edges of Graph(num_nodes=40, num_edges=804,\n",
       "       ndata_schemes={'tmp': Scheme(shape=(20,), dtype=torch.float32)}\n",
       "       edata_schemes={})>,\n",
       " <bound method DGLHeteroGraph.num_edges of Graph(num_nodes=40, num_edges=804,\n",
       "       ndata_schemes={'tmp': Scheme(shape=(20,), dtype=torch.float32)}\n",
       "       edata_schemes={})>,\n",
       " <bound method DGLHeteroGraph.num_edges of Graph(num_nodes=40, num_edges=804,\n",
       "       ndata_schemes={'tmp': Scheme(shape=(20,), dtype=torch.float32)}\n",
       "       edata_schemes={})>,\n",
       " <bound method DGLHeteroGraph.num_edges of Graph(num_nodes=40, num_edges=804,\n",
       "       ndata_schemes={'tmp': Scheme(shape=(20,), dtype=torch.float32)}\n",
       "       edata_schemes={})>,\n",
       " <bound method DGLHeteroGraph.num_edges of Graph(num_nodes=40, num_edges=804,\n",
       "       ndata_schemes={'tmp': Scheme(shape=(20,), dtype=torch.float32)}\n",
       "       edata_schemes={})>,\n",
       " <bound method DGLHeteroGraph.num_edges of Graph(num_nodes=40, num_edges=804,\n",
       "       ndata_schemes={'tmp': Scheme(shape=(20,), dtype=torch.float32)}\n",
       "       edata_schemes={})>,\n",
       " <bound method DGLHeteroGraph.num_edges of Graph(num_nodes=40, num_edges=804,\n",
       "       ndata_schemes={'tmp': Scheme(shape=(20,), dtype=torch.float32)}\n",
       "       edata_schemes={})>,\n",
       " <bound method DGLHeteroGraph.num_edges of Graph(num_nodes=40, num_edges=804,\n",
       "       ndata_schemes={'tmp': Scheme(shape=(20,), dtype=torch.float32)}\n",
       "       edata_schemes={})>,\n",
       " <bound method DGLHeteroGraph.num_edges of Graph(num_nodes=40, num_edges=804,\n",
       "       ndata_schemes={'tmp': Scheme(shape=(20,), dtype=torch.float32)}\n",
       "       edata_schemes={})>,\n",
       " <bound method DGLHeteroGraph.num_edges of Graph(num_nodes=40, num_edges=804,\n",
       "       ndata_schemes={'tmp': Scheme(shape=(20,), dtype=torch.float32)}\n",
       "       edata_schemes={})>,\n",
       " <bound method DGLHeteroGraph.num_edges of Graph(num_nodes=40, num_edges=804,\n",
       "       ndata_schemes={'tmp': Scheme(shape=(20,), dtype=torch.float32)}\n",
       "       edata_schemes={})>,\n",
       " <bound method DGLHeteroGraph.num_edges of Graph(num_nodes=40, num_edges=804,\n",
       "       ndata_schemes={'tmp': Scheme(shape=(20,), dtype=torch.float32)}\n",
       "       edata_schemes={})>,\n",
       " <bound method DGLHeteroGraph.num_edges of Graph(num_nodes=40, num_edges=804,\n",
       "       ndata_schemes={'tmp': Scheme(shape=(20,), dtype=torch.float32)}\n",
       "       edata_schemes={})>,\n",
       " <bound method DGLHeteroGraph.num_edges of Graph(num_nodes=40, num_edges=804,\n",
       "       ndata_schemes={'tmp': Scheme(shape=(20,), dtype=torch.float32)}\n",
       "       edata_schemes={})>]"
      ]
     },
     "execution_count": 24,
     "metadata": {},
     "output_type": "execute_result"
    }
   ],
   "source": [
    "[g.num_edges() for g in dgl.unbatch(batch)]"
   ]
  },
  {
   "cell_type": "code",
   "execution_count": 44,
   "id": "cubic-operations",
   "metadata": {},
   "outputs": [],
   "source": [
    " def forward_attn_scores(net, g):\n",
    "    \n",
    "    \n",
    "    attn_tmp = []\n",
    "    #### extract feature vector concat embeddings with handcrafted features\n",
    "    emb = self.emb(g.ndata['residues']).view(-1, self.emb_size)\n",
    "    emb2 = self.emb2(g.ndata['secondary']).view(-1, self.emb2_size)\n",
    "    h, e = g.ndata['features'], g.edata['features']\n",
    "    h = torch.cat([emb, emb2, h], dim=1)\n",
    "\n",
    "    ####### first layer  block #############\n",
    "    h, e, attn = self.gat_first.gat(g, h, e, get_attention = True)\n",
    "    h, e = h.flatten(1), e.flatten(1)\n",
    "    h, e = self.bn_first(h), self.bn_edge(e)\n",
    "    h = F.leaky_relu(h)\n",
    "    h = self.dp_first(h)\n",
    "    attn_tmp.append(attn)\n",
    "    ###### loop layer block #############\n",
    "    for block in self.GATBlocks:\n",
    "        h, e, attn = block.gat(g, h, e, get_attention = True)\n",
    "        attn_tmp.append(attn)\n",
    "    ###### last layer block #############\n",
    "    h, e, attn = self.gat_last.gat(g, h, e, get_attention = True)\n",
    "    attn_tmp.append(attn)\n",
    "    \n",
    "    return attn_tmp\n"
   ]
  },
  {
   "cell_type": "code",
   "execution_count": null,
   "id": "union-casino",
   "metadata": {},
   "outputs": [],
   "source": []
  }
 ],
 "metadata": {
  "kernelspec": {
   "display_name": "Python 3",
   "language": "python",
   "name": "python3"
  },
  "language_info": {
   "codemirror_mode": {
    "name": "ipython",
    "version": 3
   },
   "file_extension": ".py",
   "mimetype": "text/x-python",
   "name": "python",
   "nbconvert_exporter": "python",
   "pygments_lexer": "ipython3",
   "version": "3.7.9"
  }
 },
 "nbformat": 4,
 "nbformat_minor": 5
}
