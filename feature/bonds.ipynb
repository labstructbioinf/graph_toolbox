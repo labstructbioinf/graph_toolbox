{
 "cells": [
  {
   "cell_type": "code",
   "execution_count": 1,
   "id": "a548eab6-fbd3-47cb-907e-2a2eddf230de",
   "metadata": {},
   "outputs": [
    {
     "data": {
      "text/plain": [
       "[1, 2, 3]"
      ]
     },
     "execution_count": 1,
     "metadata": {},
     "output_type": "execute_result"
    }
   ],
   "source": [
    "[a for a in [1,2,3] if a not in {'OX'}]"
   ]
  },
  {
   "cell_type": "code",
   "execution_count": 1,
   "id": "ac414a5f-f749-4672-9a6f-01d44a61b2e7",
   "metadata": {},
   "outputs": [],
   "source": [
    "import torch as th\n",
    "import itertools\n",
    "import atomium\n",
    "import pandas as pd\n",
    "import params"
   ]
  },
  {
   "cell_type": "code",
   "execution_count": 5,
   "id": "14ad293b-6696-437f-aad8-41831984ca1e",
   "metadata": {},
   "outputs": [],
   "source": [
    "\n",
    "data = atomium.fetch('2lyz')\n",
    "data = data.model"
   ]
  },
  {
   "cell_type": "code",
   "execution_count": 4,
   "id": "307aa954-3b86-4620-a568-c4b440d0e2ed",
   "metadata": {},
   "outputs": [],
   "source": [
    "aa_atoms = ['N','C','O','CA','CB','CG','CD','CE','CZ','OD','NH','NE','OG','ND','SG','OE','CH','NZ','OH','SD','OX']\n",
    "\n",
    "atom_id = {ch : i for i, ch in enumerate(charge.keys())}\n",
    "AT_INT = {k : i for i, k in enumerate(aa_atoms)}\n",
    "INT_AT = {v:k for k, v in AT_INT.items()}\n",
    "\n",
    "at_at_list = [[f'{at1}-{at2}' for at1 in aa_atoms] for at2 in aa_atoms]\n",
    "AT_AT_name = list(itertools.chain(*at_at_list))\n",
    "ATAT_INT = {k : i for i,k in enumerate(AT_AT_name)}\n",
    "num_atat_feats = len(ATAT_INT)\n"
   ]
  },
  {
   "cell_type": "code",
   "execution_count": 5,
   "id": "3c79cf04-e6fa-4b92-a51c-8c5ce9f52f05",
   "metadata": {},
   "outputs": [],
   "source": [
    "HYDROPHOBIC = {'ALA', 'VAL', 'LEU', 'ILE', 'MET', 'PHE', 'TRP', 'RPO', 'TYR'}\n",
    "AROMATIC = {'TRP', 'TYR', 'PHE'}\n",
    "CATION_PI = {'CG', 'CD', 'CE', 'CZ'}\n",
    "SALT_BRIDGE_C1 = {'NH', 'NE'}\n",
    "SALT_BRIDGE_C2 = {'OE', 'OE'}\n",
    "HYDROGEN_ACCEPTOR = {'NH', 'OH'}\n",
    "HYDROGEN_DONOR = {'F', 'N', 'O'}"
   ]
  },
  {
   "cell_type": "code",
   "execution_count": 115,
   "id": "f516354c-c786-4e12-8058-4230a885c790",
   "metadata": {},
   "outputs": [],
   "source": [
    "nan_type = float('nan')\n",
    "atoms = []\n",
    "name = []\n",
    "ca_xyz = []\n",
    "cb_xyz = []\n",
    "residues = []\n",
    "residues_name = []\n",
    "is_side_chain = []\n",
    "res_at_num = []\n",
    "i = 0\n",
    "for chain in data.chains():\n",
    "    for res in chain.residues():\n",
    "        r_at_name = [r.name for r in res.atoms()]\n",
    "        res_at_num.append(len(r_at_name))\n",
    "        for atom in res.atoms():\n",
    "            n = atom.name\n",
    "            if n == 'CA':\n",
    "                ca_xyz.append(atom.location)\n",
    "            elif n == 'CB':\n",
    "                cb_xyz.append(atom.location)\n",
    "            elif len(n) == 3:\n",
    "                n = n[:2]\n",
    "            name.append(n)\n",
    "            is_side_chain.append(atom.is_side_chain)\n",
    "            atoms.append(atom.location)\n",
    "            residues.append(i)\n",
    "            residues_name.append(res.name)\n",
    "        if 'CB' not in r_at_name:\n",
    "            cb_xyz.append((nan_type, nan_type, nan_type))\n",
    "        res_at_num.append(j)\n",
    "        i += 1"
   ]
  },
  {
   "cell_type": "code",
   "execution_count": 72,
   "id": "1b117f9b-5f2d-403e-96f0-f024fd841a52",
   "metadata": {},
   "outputs": [],
   "source": [
    "is_res_hf = [True if r in HYDROPHOBIC else False for r in residues_name]\n",
    "#is_at_rg = [True if at is False else False for at in is_side_chain ]\n",
    "is_at_hb_a = [True if r in HYDROGEN_ACCEPTOR else False for r in name]\n",
    "is_at_hb_d = [True if r in HYDROGEN_DONOR else False for r in name]\n",
    "\n",
    "is_res_ar = [True if r in AROMATIC else False for r in residues_name]\n",
    "\n",
    "is_res_cpi = [True if at in CATION_PI else False for at in name]\n",
    "\n",
    "is_res_arg = [True if r in {'ARG'} else False for r in residues_name]\n",
    "\n",
    "is_at_sb_c1 = [True if at in SALT_BRIDGE_C1 else False for at in name]\n",
    "is_res_sb_c1 = [True if at in {'ARG', 'LYS'} else False for at in residues_name]\n",
    "is_at_sb_c2 = [True if at in {'ARG', 'GLU'} else False for at in name]\n",
    "is_res_sb_c2 = [True if at in SALT_BRIDGE_C2 else False for at in residues_name]"
   ]
  },
  {
   "cell_type": "code",
   "execution_count": 116,
   "id": "abcf94a2-81bc-4330-8843-e20fcfc51c71",
   "metadata": {},
   "outputs": [],
   "source": [
    "name_base = [n[0] for n in name]\n",
    "at_charge = [charge[n] for n in name_base]\n",
    "at_vdw = []\n",
    "atom_arr = [atom_id[n] for n in name_base]\n",
    "\n",
    "at_xyz = th.FloatTensor(atoms)\n",
    "at_dist = th.cdist(at_xyz, at_xyz)\n",
    "at_id = th.LongTensor(atom_arr)\n",
    "at_is_side = th.BoolTensor(is_side_chain)\n",
    "at_is_hba = th.BoolTensor(is_at_hb_a)\n",
    "at_is_hbd = th.BoolTensor(is_at_hb_d)\n",
    "\n",
    "res_id = th.LongTensor(residues)\n",
    "res_xyz = th.FloatTensor(ca_xyz)\n",
    "res_dist = th.cdist(res_xyz, res_xyz)\n",
    "res_cb = th.FloatTensor(cb_xyz)"
   ]
  },
  {
   "cell_type": "code",
   "execution_count": 74,
   "id": "1e9bee16-f3e5-417e-a9c1-2fc7ed23717b",
   "metadata": {},
   "outputs": [],
   "source": [
    "atat_charge = th.FloatTensor(at_charge).view(-1, 1)\n",
    "atat_charge = atat_charge * th.FloatTensor(at_charge).view(1, -1)\n",
    "\n",
    "at_dist_inv = 1e-6/th.pow(at_dist + 1e-2, 2)"
   ]
  },
  {
   "cell_type": "code",
   "execution_count": 7,
   "id": "5cf1fc7c-601a-4351-a179-c9f7d1836f3f",
   "metadata": {
    "tags": []
   },
   "outputs": [
    {
     "ename": "NameError",
     "evalue": "name 'at_id' is not defined",
     "output_type": "error",
     "traceback": [
      "\u001b[0;31m---------------------------------------------------------------------------\u001b[0m",
      "\u001b[0;31mNameError\u001b[0m                                 Traceback (most recent call last)",
      "\u001b[0;32m<ipython-input-7-38ec8b74e542>\u001b[0m in \u001b[0;36m<module>\u001b[0;34m\u001b[0m\n\u001b[0;32m----> 1\u001b[0;31m \u001b[0mdisulfde\u001b[0m \u001b[0;34m=\u001b[0m \u001b[0;34m(\u001b[0m\u001b[0mat_id\u001b[0m \u001b[0;34m==\u001b[0m \u001b[0;36m4\u001b[0m\u001b[0;34m)\u001b[0m \u001b[0;34m&\u001b[0m \u001b[0;34m(\u001b[0m\u001b[0mat_dist\u001b[0m \u001b[0;34m<\u001b[0m \u001b[0;36m2.2\u001b[0m\u001b[0;34m)\u001b[0m\u001b[0;34m\u001b[0m\u001b[0;34m\u001b[0m\u001b[0m\n\u001b[0m\u001b[1;32m      2\u001b[0m \u001b[0mhydrophobic\u001b[0m \u001b[0;34m=\u001b[0m \u001b[0;34m(\u001b[0m\u001b[0mat_dist\u001b[0m \u001b[0;34m<\u001b[0m \u001b[0;36m5.0\u001b[0m\u001b[0;34m)\u001b[0m \u001b[0;34m&\u001b[0m \u001b[0;34m(\u001b[0m\u001b[0mat_is_side\u001b[0m \u001b[0;34m==\u001b[0m \u001b[0;32mFalse\u001b[0m\u001b[0;34m)\u001b[0m \u001b[0;34m&\u001b[0m \u001b[0mth\u001b[0m\u001b[0;34m.\u001b[0m\u001b[0mBoolTensor\u001b[0m\u001b[0;34m(\u001b[0m\u001b[0mis_res_hf\u001b[0m\u001b[0;34m)\u001b[0m\u001b[0;34m\u001b[0m\u001b[0;34m\u001b[0m\u001b[0m\n\u001b[1;32m      3\u001b[0m \u001b[0mcation_pi\u001b[0m \u001b[0;34m=\u001b[0m \u001b[0;34m(\u001b[0m\u001b[0mat_dist\u001b[0m \u001b[0;34m<\u001b[0m \u001b[0;36m6\u001b[0m\u001b[0;34m)\u001b[0m \u001b[0;34m&\u001b[0m \u001b[0mth\u001b[0m\u001b[0;34m.\u001b[0m\u001b[0mBoolTensor\u001b[0m\u001b[0;34m(\u001b[0m\u001b[0mis_res_cpi\u001b[0m\u001b[0;34m)\u001b[0m\u001b[0;34m\u001b[0m\u001b[0;34m\u001b[0m\u001b[0m\n\u001b[1;32m      4\u001b[0m \u001b[0marg_arg\u001b[0m \u001b[0;34m=\u001b[0m \u001b[0;34m(\u001b[0m\u001b[0mat_dist\u001b[0m \u001b[0;34m<\u001b[0m \u001b[0;36m5.0\u001b[0m\u001b[0;34m)\u001b[0m \u001b[0;34m&\u001b[0m \u001b[0mth\u001b[0m\u001b[0;34m.\u001b[0m\u001b[0mBoolTensor\u001b[0m\u001b[0;34m(\u001b[0m\u001b[0mis_res_arg\u001b[0m\u001b[0;34m)\u001b[0m\u001b[0;34m\u001b[0m\u001b[0;34m\u001b[0m\u001b[0m\n\u001b[1;32m      5\u001b[0m \u001b[0mhbond\u001b[0m \u001b[0;34m=\u001b[0m \u001b[0mat_is_hba\u001b[0m\u001b[0;34m,\u001b[0m\u001b[0mview\u001b[0m\u001b[0;34m(\u001b[0m\u001b[0;34m-\u001b[0m\u001b[0;36m1\u001b[0m\u001b[0;34m,\u001b[0m \u001b[0;36m1\u001b[0m\u001b[0;34m)\u001b[0m \u001b[0;34m&\u001b[0m \u001b[0mat_is_hba\u001b[0m\u001b[0;34m.\u001b[0m\u001b[0mview\u001b[0m\u001b[0;34m(\u001b[0m\u001b[0;36m1\u001b[0m\u001b[0;34m,\u001b[0m \u001b[0;34m-\u001b[0m\u001b[0;36m1\u001b[0m\u001b[0;34m)\u001b[0m\u001b[0;34m\u001b[0m\u001b[0;34m\u001b[0m\u001b[0m\n",
      "\u001b[0;31mNameError\u001b[0m: name 'at_id' is not defined"
     ]
    }
   ],
   "source": [
    "disulfde = (at_id == 4) & (at_dist < 2.2)\n",
    "hydrophobic = (at_dist < 5.0) & (at_is_side == False) & th.BoolTensor(is_res_hf)\n",
    "cation_pi = (at_dist < 6) & th.BoolTensor(is_res_cpi)\n",
    "arg_arg = (at_dist < 5.0) & th.BoolTensor(is_res_arg)\n",
    "hbond = at_is_hba,view(-1, 1) & at_is_hba.view(1, -1)\n",
    "\n",
    "sb_tmp1 = th.BoolTensor(is_at_sb_c1).view(-1, 1) & th.BoolTensor(is_at_sb_c2).view(1, -1)\n",
    "sb_tmp2 = th.BoolTensor(is_res_sb_c1).view(-1, 1) & th.BoolTensor(is_res_sb_c2).view(1, -1)\n",
    "\n",
    "salt_bridge = sb_tmp1 & (at_dist < 5.0) & sb_tmp2\n",
    "\n",
    "feats = th.cat((disulfde.unsqueeze(2),\n",
    "               hydrophobic.unsqueeze(2),\n",
    "               cation_pi.unsqueeze(2),\n",
    "               arg_arg.unsqueeze(2),\n",
    "               salt_bridge.unsqueeze(2),\n",
    "               hbond.unsqueeze(2)), dim=2)\n",
    "feats = feats.float()\n",
    "coulomb_force = at_dist_inv * atat_charge\n",
    "feats = th.cat((feats, \n",
    "                coulomb_force.unsqueeze(2)), dim=2)"
   ]
  },
  {
   "cell_type": "code",
   "execution_count": 83,
   "id": "f28f893c-f694-4caa-9e03-392aa051a662",
   "metadata": {},
   "outputs": [],
   "source": [
    "efeat_list = list()\n",
    "first_dim_split = feats.split(res_at_num, 0)\n",
    "for i in range(len(res_at_num)):\n",
    "    efeat_list.extend(list(first_dim_split[i].split(res_at_num, 1)))"
   ]
  },
  {
   "cell_type": "code",
   "execution_count": 84,
   "id": "d4c72158-70be-4c9c-8d84-f15a006959f1",
   "metadata": {},
   "outputs": [],
   "source": [
    "u, v = th.where(res_dist < 8)\n",
    "uv = th.where(res_dist.ravel() < 8)[0]"
   ]
  },
  {
   "cell_type": "code",
   "execution_count": 160,
   "id": "d285e6c3-91b0-4c93-a48f-dd6d9c3dc0e5",
   "metadata": {},
   "outputs": [],
   "source": [
    "feats_at = th.cat([efeat_list[e].sum((0,1), keepdim=True) for e in uv], dim=0)"
   ]
  },
  {
   "cell_type": "code",
   "execution_count": 161,
   "id": "eb388ba0-16c0-449f-b3d2-b5ffbcd0a8f4",
   "metadata": {},
   "outputs": [
    {
     "data": {
      "text/plain": [
       "torch.Size([1387, 1, 6])"
      ]
     },
     "execution_count": 161,
     "metadata": {},
     "output_type": "execute_result"
    }
   ],
   "source": [
    "feats_at.shape"
   ]
  },
  {
   "cell_type": "code",
   "execution_count": 16,
   "id": "c574cd16-d4ee-4026-b354-3be8f35ac381",
   "metadata": {},
   "outputs": [],
   "source": [
    "efeats = th.zeros_like(res_dist)\n"
   ]
  },
  {
   "cell_type": "code",
   "execution_count": 165,
   "id": "79428011-57ce-4e59-9cdb-df3953db16df",
   "metadata": {},
   "outputs": [],
   "source": [
    "cb1 = th.linalg.norm(res_cb - res_xyz, dim=1, keepdim=True)\n",
    "cb2 = cb1.clone().swapdims(0, 1)\n",
    "tn_cb12 = cb1 / (cb2 + 1e-2)\n",
    "tn_cb12[th.isnan(tn_cb12)] = -1\n",
    "\n",
    "inv_ca12 = 1/(res_dist - 1e-3)\n",
    "\n",
    "res_id_short = th.arange(0, res_id.max()+1, 1)\n",
    "is_seq = th.abs(res_id_short.unsqueeze(0) - res_id_short.unsqueeze(1))\n",
    "is_self = is_seq == 0\n",
    "is_seq_0 = is_seq == 1\n",
    "is_seq_1 = is_seq == 2\n",
    "is_struct_0 = ~is_seq_0\n",
    "\n",
    "\n",
    "feats_res = th.cat((tn_cb12.unsqueeze(2),\n",
    "                   inv_ca12.unsqueeze(2),\n",
    "                    is_self.unsqueeze(2),\n",
    "                   is_seq_0.unsqueeze(2),\n",
    "                   is_seq_1.unsqueeze(2),\n",
    "                   is_struct_0.unsqueeze(2)), dim=2)\n",
    "feats_res = feats_res[u,v]"
   ]
  },
  {
   "cell_type": "code",
   "execution_count": 167,
   "id": "d3e5bf8e-aa0f-4561-9c59-23eb76ce264b",
   "metadata": {},
   "outputs": [],
   "source": [
    "feats_all = th.cat((feats_at.squeeze(), feats_res), dim=-1)"
   ]
  },
  {
   "cell_type": "code",
   "execution_count": 170,
   "id": "720a6e94-65eb-42f6-823a-681f434884a7",
   "metadata": {},
   "outputs": [
    {
     "data": {
      "text/plain": [
       "tensor([ 0.0000e+00,  1.0887e-01,  2.7325e-01,  3.6770e-02,  0.0000e+00,\n",
       "         3.0889e-03,  7.1780e-01, -7.7832e+01,  9.3006e-02,  1.8457e-01,\n",
       "         1.8313e-01,  8.1543e-01])"
      ]
     },
     "execution_count": 170,
     "metadata": {},
     "output_type": "execute_result"
    }
   ],
   "source": [
    "feats_all.mean(0)"
   ]
  },
  {
   "cell_type": "code",
   "execution_count": null,
   "id": "82e62fc5-5ecb-4db0-a193-90b68f8572bb",
   "metadata": {},
   "outputs": [],
   "source": [
    "dist_where = (dist < 2)\n",
    "res1, res2 = th.nonzero(dist_where, as_tuple=True)"
   ]
  },
  {
   "cell_type": "code",
   "execution_count": null,
   "id": "b476153c-446b-4b9a-ab08-6398f7681dcb",
   "metadata": {},
   "outputs": [],
   "source": [
    "ca_adj = res_dist < 8"
   ]
  },
  {
   "cell_type": "code",
   "execution_count": null,
   "id": "df000ef1-6015-44d3-aae0-ea5460a051cb",
   "metadata": {},
   "outputs": [],
   "source": [
    "th.index_copy_()"
   ]
  },
  {
   "cell_type": "code",
   "execution_count": null,
   "id": "296202b3-1573-43d5-9319-95db59fd4c12",
   "metadata": {},
   "outputs": [],
   "source": [
    "aa1, aa2 = res_num[res1], res_num[res2]\n",
    "at1, at2 = atom_id[res1], atom_id[res2]\n",
    "inter = aa1 != aa2\n",
    "inter1, inter2 = aa1[inter], aa2[inter]"
   ]
  },
  {
   "cell_type": "code",
   "execution_count": null,
   "id": "d458b49f-499a-4d37-880a-27f30db3f789",
   "metadata": {},
   "outputs": [],
   "source": [
    "print('num:', inter.shape)\n",
    "bond_list = list()\n",
    "bond_dict = {i : [] for i in range(num_resid)}\n",
    "for i in range(inter1.shape[0]-1):\n",
    "    rid1, rid2 = inter1[i].item(), inter2[i].item()\n",
    "    atid1, atid2 = at1[i].item(), at2[i].item()\n",
    "    #print(rid1, ' - ', rid2, ': ', INT_AT[atid1], '-',  INT_AT[atid2])\n",
    "    atat_name = INT_AT[atid1]+'-'+INT_AT[atid2]\n",
    "    bond_list.append(atat_name)\n",
    "    bond_dict[rid1].append(atat_name)"
   ]
  },
  {
   "cell_type": "code",
   "execution_count": null,
   "id": "53a6c47c-24fb-4292-bd93-e9ce47a230b4",
   "metadata": {},
   "outputs": [],
   "source": [
    "\n",
    "\n",
    "def bond_to_vector(bond_dict):\n",
    "    stack = list()\n",
    "    for res, bond_list in bond_dict.items():\n",
    "        \n",
    "        bonds_unique = set(bond_list)\n",
    "        bonds = th.zeros(params.num_atat_feats)\n",
    "        \n",
    "        if bonds_unique:\n",
    "            \n",
    "            bonds_id = [params.ATAT_INT[b] for b in bonds_unique if b in params.ATAT_INT]\n",
    "            bonds[bonds_id] = 1\n",
    "        stack.append(bonds.unsqueeze(0))\n",
    "    feats = th.cat(stack, 0)\n",
    "    return feats"
   ]
  },
  {
   "cell_type": "code",
   "execution_count": null,
   "id": "6932c269-2a28-4ad3-b363-122dd263266e",
   "metadata": {},
   "outputs": [],
   "source": []
  },
  {
   "cell_type": "code",
   "execution_count": null,
   "id": "cd01f3b4-af0c-4900-b551-8ace71d81dd2",
   "metadata": {},
   "outputs": [],
   "source": []
  }
 ],
 "metadata": {
  "kernelspec": {
   "display_name": "Python 3",
   "language": "python",
   "name": "python3"
  },
  "language_info": {
   "codemirror_mode": {
    "name": "ipython",
    "version": 3
   },
   "file_extension": ".py",
   "mimetype": "text/x-python",
   "name": "python",
   "nbconvert_exporter": "python",
   "pygments_lexer": "ipython3",
   "version": "3.6.13"
  }
 },
 "nbformat": 4,
 "nbformat_minor": 5
}
