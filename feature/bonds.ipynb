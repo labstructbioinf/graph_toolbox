{
 "cells": [
  {
   "cell_type": "code",
   "execution_count": 1,
   "id": "a548eab6-fbd3-47cb-907e-2a2eddf230de",
   "metadata": {},
   "outputs": [
    {
     "data": {
      "text/plain": [
       "[1, 2, 3]"
      ]
     },
     "execution_count": 1,
     "metadata": {},
     "output_type": "execute_result"
    }
   ],
   "source": [
    "[a for a in [1,2,3] if a not in {'OX'}]"
   ]
  },
  {
   "cell_type": "code",
   "execution_count": 2,
   "id": "ac414a5f-f749-4672-9a6f-01d44a61b2e7",
   "metadata": {},
   "outputs": [],
   "source": [
    "import torch as th\n",
    "import itertools\n",
    "import atomium\n",
    "import pandas as pd\n",
    "import params"
   ]
  },
  {
   "cell_type": "code",
   "execution_count": 3,
   "id": "14ad293b-6696-437f-aad8-41831984ca1e",
   "metadata": {},
   "outputs": [],
   "source": [
    "\n"
   ]
  },
  {
   "cell_type": "code",
   "execution_count": 5,
   "id": "307aa954-3b86-4620-a568-c4b440d0e2ed",
   "metadata": {},
   "outputs": [],
   "source": [
    "aa_atoms = ['N','C','O','CA','CB','CG','CD','CE','CZ','OD','NH','NE','OG','ND','SG','OE','CH','NZ','OH','SD','OX']\n",
    "\n",
    "#atom_id = {ch : i for i, ch in enumerate(charge.keys())}\n",
    "AT_INT = {k : i for i, k in enumerate(aa_atoms)}\n",
    "INT_AT = {v:k for k, v in AT_INT.items()}\n",
    "\n",
    "at_at_list = [[f'{at1}-{at2}' for at1 in aa_atoms] for at2 in aa_atoms]\n",
    "AT_AT_name = list(itertools.chain(*at_at_list))\n",
    "ATAT_INT = {k : i for i,k in enumerate(AT_AT_name)}\n",
    "num_atat_feats = len(ATAT_INT)\n"
   ]
  },
  {
   "cell_type": "code",
   "execution_count": 6,
   "id": "3c79cf04-e6fa-4b92-a51c-8c5ce9f52f05",
   "metadata": {},
   "outputs": [],
   "source": [
    "HYDROPHOBIC = {'ALA', 'VAL', 'LEU', 'ILE', 'MET', 'PHE', 'TRP', 'RPO', 'TYR'}\n",
    "AROMATIC = {'TRP', 'TYR', 'PHE'}\n",
    "CATION_PI = {'CG', 'CD', 'CE', 'CZ'}\n",
    "SALT_BRIDGE_C1 = {'NH', 'NE'}\n",
    "SALT_BRIDGE_C2 = {'OE', 'OE'}\n",
    "HYDROGEN_ACCEPTOR = {'NH', 'OH'}\n",
    "HYDROGEN_DONOR = {'F', 'N', 'O'}"
   ]
  },
  {
   "cell_type": "code",
   "execution_count": 20,
   "id": "f516354c-c786-4e12-8058-4230a885c790",
   "metadata": {},
   "outputs": [],
   "source": [
    "'''script for calculating residue - residue interactions'''\n",
    "import atomium\n",
    "import torch as th\n",
    "from params import (HYDROPHOBIC,\n",
    "                     AROMATIC,\n",
    "                     CATION_PI,\n",
    "                     SALT_BRIDGE_C1,\n",
    "                     SALT_BRIDGE_C2,\n",
    "                     CHARGE,\n",
    "                    VDW_RADIUS,\n",
    "                    HYDROGEN_ACCEPTOR,\n",
    "                    HYDROGEN_DONOR)\n",
    "\n",
    "\n",
    "nan_type = float('nan')\n",
    "atom_id = {ch : i for i, ch in enumerate(CHARGE.keys())}\n",
    "EPSILON = th.Tensor([78*10e-2]) # unit Farad / angsterm\n",
    "\n",
    "t = 8\n",
    "data = atomium.fetch('2lyz')\n",
    "data = data.model\n",
    "\n",
    "atoms = []\n",
    "name = []\n",
    "ca_xyz, cb_xyz = [], []\n",
    "residues = []\n",
    "residues_name = []\n",
    "is_side_chain = []\n",
    "res_at_num = []\n",
    "for chain in data.chains():\n",
    "    for i, res in enumerate(chain.residues()):\n",
    "        r_at_name = [r.name for r in res.atoms()]\n",
    "        res_at_num.append(len(r_at_name))\n",
    "        for atom in res.atoms():\n",
    "            n = atom.name\n",
    "            if n == 'CA':\n",
    "                ca_xyz.append(atom.location)\n",
    "            elif n == 'CB':\n",
    "                cb_xyz.append(atom.location)\n",
    "            elif len(n) == 3:\n",
    "                n = n[:2]\n",
    "            name.append(n)\n",
    "            is_side_chain.append(atom.is_side_chain)\n",
    "            atoms.append(atom.location)\n",
    "            residues.append(i)\n",
    "            residues_name.append(res.name)\n",
    "        if 'CB' not in r_at_name:\n",
    "            cb_xyz.append((nan_type, nan_type, nan_type))\n",
    "        if 'CA' not in r_at_name:\n",
    "            raise KeyError('missing CA atom')\n",
    "\n",
    "name_base = [n[0] for n in name]\n",
    "at_charge = [CHARGE[n] for n in name_base]\n",
    "at_vdw = [VDW_RADIUS[n] for n in name_base]\n",
    "atom_arr = [atom_id[n] for n in name_base]\n",
    "\n",
    "res_id = th.LongTensor(residues)\n",
    "res_xyz = th.FloatTensor(ca_xyz)\n",
    "res_dist = th.cdist(res_xyz, res_xyz)\n",
    "res_cb = th.FloatTensor(cb_xyz)\n",
    "\n",
    "is_res_hf = [True if r in HYDROPHOBIC else False for r in residues_name]\n",
    "#is_at_rg = [True if at is False else False for at in is_side_chain ]\n",
    "is_at_hb_a = [True if r in HYDROGEN_ACCEPTOR else False for r in name]\n",
    "is_at_hb_d = [True if r in HYDROGEN_DONOR else False for r in name]\n",
    "is_res_ar = [True if r in AROMATIC else False for r in residues_name]\n",
    "\n",
    "is_res_cpi = [True if at in CATION_PI else False for at in name]\n",
    "is_res_arg = [True if r in {'ARG'} else False for r in residues_name]\n",
    "\n",
    "is_at_sb_c1 = [True if at in SALT_BRIDGE_C1 else False for at in name]\n",
    "is_res_sb_c1 = [True if at in {'ARG', 'LYS'} else False for at in residues_name]\n",
    "is_at_sb_c2 = [True if at in {'ARG', 'GLU'} else False for at in name]\n",
    "is_res_sb_c2 = [True if at in SALT_BRIDGE_C2 else False for at in residues_name]\n",
    "\n",
    "at_xyz = th.FloatTensor(atoms)\n",
    "at_dist = th.cdist(at_xyz, at_xyz)\n",
    "at_id = th.LongTensor(atom_arr)\n",
    "sigma = th.FloatTensor(at_vdw)\n",
    "at_is_side = th.BoolTensor(is_side_chain)\n",
    "at_is_hba = th.BoolTensor(is_at_hb_a)\n",
    "at_is_hbd = th.BoolTensor(is_at_hb_d)\n",
    "\n",
    "at_dist_inv = 1/(at_dist + 1e-6)\n",
    "# set inverse of the atom self distance to zero to avoid nan/inf when summing\n",
    "at_dist_inv.fill_diagonal_(0) \n",
    "atat_charge = th.FloatTensor(at_charge).view(-1, 1)\n",
    "atat_charge = atat_charge * atat_charge.view(1, -1)\n",
    "sigma = sigma.view(-1, 1) * sigma.view(1, -1)\n",
    "\n",
    "lj_r = sigma*at_dist_inv * (at_dist < 10)\n",
    "lj6 = th.pow(lj_r, 6) \n",
    "lj12 = th.pow(lj_r, 12)\n",
    "#print('lj', lj_r)\n",
    "#print('lj12', lj12)\n",
    "#print('lj12', lj6)\n",
    "disulfde = (at_id == 4) & (at_dist < 2.2)\n",
    "hydrophobic = (at_dist < 5.0) & (at_is_side == False) & th.BoolTensor(is_res_hf)\n",
    "cation_pi = (at_dist < 6) & th.BoolTensor(is_res_cpi)\n",
    "arg_arg = (at_dist < 5.0) & th.BoolTensor(is_res_arg)\n",
    "hbond = at_is_hba.view(-1, 1) & at_is_hba.view(1, -1)\n",
    "\n",
    "sb_tmp1 = th.BoolTensor(is_at_sb_c1).view(-1, 1) & th.BoolTensor(is_at_sb_c2).view(1, -1)\n",
    "sb_tmp2 = th.BoolTensor(is_res_sb_c1).view(-1, 1) & th.BoolTensor(is_res_sb_c2).view(1, -1)\n",
    "\n",
    "salt_bridge = sb_tmp1 & (at_dist < 5.0) & sb_tmp2\n",
    "\n",
    "feats = th.cat((disulfde.unsqueeze(2),\n",
    "               hydrophobic.unsqueeze(2),\n",
    "               cation_pi.unsqueeze(2),\n",
    "               arg_arg.unsqueeze(2),\n",
    "               salt_bridge.unsqueeze(2),\n",
    "               hbond.unsqueeze(2)), dim=2)\n",
    "feats = feats.float()\n",
    "coulomb_energy =  (1/3.14*EPSILON) * atat_charge * at_dist_inv\n",
    "lenard_jones_energy = 1e-2 * (lj12 - lj6 )\n",
    "energy_sum = coulomb_energy + lenard_jones_energy\n",
    "feats = th.cat((feats, \n",
    "                coulomb_energy.unsqueeze(2),\n",
    "               lenard_jones_energy.unsqueeze(2),\n",
    "               energy_sum.unsqueeze(2)),\n",
    "               dim=2)\n",
    "# change feature resolution\n",
    "# from atomic level to residue level\n",
    "efeat_list = list()\n",
    "first_dim_split = feats.split(res_at_num, 0)\n",
    "for i in range(len(res_at_num)):\n",
    "    efeat_list.extend(list(first_dim_split[i].split(res_at_num, 1)))\n",
    "\n",
    "u, v = th.where(res_dist < t)\n",
    "uv = th.where(res_dist.ravel() < t)[0]\n",
    "feats_at = th.cat([efeat_list[e].sum((0,1), keepdim=True) for e in uv], dim=0)\n",
    "efeats = th.zeros_like(res_dist)\n",
    "# gather residue level feature, such as edge criteria\n",
    "cb1 = th.linalg.norm(res_cb - res_xyz, dim=1, keepdim=True)\n",
    "cb2 = cb1.clone().swapdims(0, 1)\n",
    "tn_cb12 = cb1 / (cb2 + 1e-2)\n",
    "tn_cb12[th.isnan(tn_cb12)] = -1\n",
    "inv_ca12 = 1/(res_dist + 1e-5)\n",
    "inv_ca12.fill_diagonal_(0)\n",
    "res_id_short = th.arange(0, res_id.max()+1, 1)\n",
    "is_seq = th.abs(res_id_short.unsqueeze(0) - res_id_short.unsqueeze(1))\n",
    "is_self = is_seq == 0\n",
    "is_seq_0 = is_seq == 1\n",
    "is_seq_1 = is_seq == 2\n",
    "is_struct_0 = ~is_seq_0\n",
    "feats_res = th.cat((tn_cb12.unsqueeze(2),\n",
    "                   inv_ca12.unsqueeze(2),\n",
    "                    is_self.unsqueeze(2),\n",
    "                   is_seq_0.unsqueeze(2),\n",
    "                   is_seq_1.unsqueeze(2),\n",
    "                   is_struct_0.unsqueeze(2)), dim=2)\n",
    "feats_res = feats_res[u,v]\n",
    "feats_all = th.cat((feats_at.squeeze(), feats_res), dim=-1)"
   ]
  },
  {
   "cell_type": "code",
   "execution_count": 24,
   "id": "2d751816-4a26-4227-8a4c-53a3ac1389d1",
   "metadata": {},
   "outputs": [
    {
     "data": {
      "text/plain": [
       "tensor([    0,     1,     2,  ..., 16638, 16639, 16640])"
      ]
     },
     "execution_count": 24,
     "metadata": {},
     "output_type": "execute_result"
    }
   ],
   "source": [
    "uv"
   ]
  },
  {
   "cell_type": "code",
   "execution_count": 21,
   "id": "72412889-2809-42eb-bc9e-697225466dcd",
   "metadata": {},
   "outputs": [
    {
     "data": {
      "text/plain": [
       "torch.Size([1387, 15])"
      ]
     },
     "execution_count": 21,
     "metadata": {},
     "output_type": "execute_result"
    }
   ],
   "source": [
    "feats_all.shape"
   ]
  },
  {
   "cell_type": "code",
   "execution_count": null,
   "id": "1b117f9b-5f2d-403e-96f0-f024fd841a52",
   "metadata": {},
   "outputs": [],
   "source": [
    "is_res_hf = [True if r in HYDROPHOBIC else False for r in residues_name]\n",
    "#is_at_rg = [True if at is False else False for at in is_side_chain ]\n",
    "is_at_hb_a = [True if r in HYDROGEN_ACCEPTOR else False for r in name]\n",
    "is_at_hb_d = [True if r in HYDROGEN_DONOR else False for r in name]\n",
    "\n",
    "is_res_ar = [True if r in AROMATIC else False for r in residues_name]\n",
    "\n",
    "is_res_cpi = [True if at in CATION_PI else False for at in name]\n",
    "\n",
    "is_res_arg = [True if r in {'ARG'} else False for r in residues_name]\n",
    "\n",
    "is_at_sb_c1 = [True if at in SALT_BRIDGE_C1 else False for at in name]\n",
    "is_res_sb_c1 = [True if at in {'ARG', 'LYS'} else False for at in residues_name]\n",
    "is_at_sb_c2 = [True if at in {'ARG', 'GLU'} else False for at in name]\n",
    "is_res_sb_c2 = [True if at in SALT_BRIDGE_C2 else False for at in residues_name]"
   ]
  },
  {
   "cell_type": "code",
   "execution_count": 11,
   "id": "f1e6e0ae-9332-49b7-ad15-a9a62b2c760e",
   "metadata": {},
   "outputs": [],
   "source": [
    "res_id = th.LongTensor(residues)\n",
    "res_xyz = th.FloatTensor(ca_xyz)\n",
    "res_dist = th.cdist(res_xyz, res_xyz)\n",
    "res_cb = th.FloatTensor(cb_xyz)"
   ]
  },
  {
   "cell_type": "code",
   "execution_count": 16,
   "id": "63adb325-2a60-4939-aa54-71ca5fb9672f",
   "metadata": {},
   "outputs": [
    {
     "data": {
      "text/plain": [
       "[(2.386, 10.407, 9.247),\n",
       " (2.387, 13.773, 7.48),\n",
       " (-1.159, 15.139, 7.344),\n",
       " (-2.756, 17.229, 4.601),\n",
       " (-4.131, 20.653, 5.5),\n",
       " (-7.708, 19.507, 4.913),\n",
       " (-7.368, 16.019, 6.393),\n",
       " (-6.046, 17.23, 9.745),\n",
       " (-8.771, 19.878, 9.908),\n",
       " (-11.387, 17.163, 9.423),\n",
       " (-9.749, 14.968, 12.051),\n",
       " (-9.266, 17.634, 14.717),\n",
       " (-12.939, 18.423, 14.147),\n",
       " (-13.997, 14.793, 14.524),\n",
       " (-12.024, 14.969, 17.772),\n",
       " (-13.836, 17.826, 19.506),\n",
       " (-11.464, 20.717, 18.811),\n",
       " (-13.423, 23.137, 16.628),\n",
       " (-14.105, 25.897, 19.156),\n",
       " (-12.733, 24.019, 22.165),\n",
       " (-12.235, 26.657, 24.859),\n",
       " (-13.192, 29.142, 22.143),\n",
       " (-10.459, 28.582, 19.56),\n",
       " (-11.578, 28.139, 15.955),\n",
       " (-10.558, 24.97, 14.12),\n",
       " (-8.206, 27.147, 12.075),\n",
       " (-6.336, 28.276, 15.184),\n",
       " (-5.416, 24.609, 15.552),\n",
       " (-4.46, 23.679, 11.995),\n",
       " (-2.381, 26.86, 11.989),\n",
       " (-0.472, 26.09, 15.183),\n",
       " (0.226, 22.552, 13.989),\n",
       " (1.503, 23.646, 10.582),\n",
       " (4.058, 26.051, 12.04),\n",
       " (4.851, 23.738, 14.949),\n",
       " (5.359, 20.464, 13.089),\n",
       " (4.475, 20.822, 9.415),\n",
       " (1.605, 18.366, 9.805),\n",
       " (4.232, 15.769, 10.698),\n",
       " (3.341, 13.666, 13.737),\n",
       " (6.816, 12.145, 13.985),\n",
       " (8.472, 15.499, 14.646),\n",
       " (10.618, 16.011, 17.74),\n",
       " (12.741, 18.917, 18.961),\n",
       " (15.124, 19.319, 21.898),\n",
       " (15.006, 22.572, 23.865),\n",
       " (18.067, 23.576, 25.884),\n",
       " (16.73, 22.614, 29.303),\n",
       " (16.862, 18.917, 28.453),\n",
       " (13.161, 18.753, 27.607),\n",
       " (11.975, 17.597, 24.185),\n",
       " (8.87, 18.491, 22.183),\n",
       " (6.656, 15.803, 20.665),\n",
       " (4.18, 15.219, 17.841),\n",
       " (1.934, 17.316, 15.606),\n",
       " (1.3, 19.842, 18.377),\n",
       " (4.753, 19.61, 19.955),\n",
       " (3.79, 18.828, 23.549),\n",
       " (6.592, 19.195, 26.095),\n",
       " (8.078, 16.523, 28.354),\n",
       " (8.913, 18.662, 31.387),\n",
       " (5.181, 18.722, 32.112),\n",
       " (2.766, 16.866, 29.835),\n",
       " (4.33, 13.513, 28.964),\n",
       " (7.117, 11.184, 30.089),\n",
       " (9.98, 10.206, 27.796),\n",
       " (12.204, 8.898, 30.59),\n",
       " (14.987, 11.449, 30.175),\n",
       " (13.641, 14.755, 31.455),\n",
       " (14.18, 15.029, 35.208),\n",
       " (12.098, 17.983, 36.369),\n",
       " (9.255, 15.903, 34.99),\n",
       " (5.561, 15.986, 35.792),\n",
       " (3.614, 13.766, 33.406),\n",
       " (0.318, 15.636, 33.655),\n",
       " (-1.039, 13.996, 30.508),\n",
       " (-0.094, 10.582, 31.87),\n",
       " (1.206, 9.314, 28.533),\n",
       " (4.658, 8.361, 27.286),\n",
       " (5.818, 11.097, 24.922),\n",
       " (6.203, 8.459, 22.216),\n",
       " (2.433, 7.986, 22.183),\n",
       " (2.125, 11.519, 20.833),\n",
       " (3.989, 10.556, 17.664),\n",
       " (1.612, 7.843, 16.472),\n",
       " (-0.419, 8.307, 13.294),\n",
       " (-3.587, 8.589, 15.365),\n",
       " (-3.695, 12.058, 16.914),\n",
       " (-6.131, 11.09, 19.664),\n",
       " (-3.525, 11.154, 22.432),\n",
       " (-2.171, 14.508, 21.26),\n",
       " (-5.584, 16.161, 21.082),\n",
       " (-6.635, 14.669, 24.417),\n",
       " (-3.484, 16.118, 25.972),\n",
       " (-3.675, 19.402, 24.065),\n",
       " (-7.145, 19.947, 25.522),\n",
       " (-5.543, 19.875, 28.971),\n",
       " (-2.737, 22.255, 28.04),\n",
       " (-5.074, 24.849, 26.536),\n",
       " (-7.457, 24.816, 29.496),\n",
       " (-4.941, 25.253, 32.308),\n",
       " (-4.629, 29.022, 31.907),\n",
       " (-2.757, 30.6, 28.996),\n",
       " (-4.839, 29.299, 26.094),\n",
       " (-2.815, 28.614, 22.95),\n",
       " (-0.184, 31.076, 24.167),\n",
       " (1.288, 27.879, 25.605),\n",
       " (2.428, 27.359, 22.014),\n",
       " (5.213, 29.75, 21.02),\n",
       " (4.415, 29.413, 17.317),\n",
       " (0.671, 30.047, 17.483),\n",
       " (1.379, 33.193, 19.501),\n",
       " (3.98, 34.594, 17.105),\n",
       " (2.702, 33.33, 13.756),\n",
       " (-0.99, 32.509, 14.106),\n",
       " (-2.461, 34.807, 16.752),\n",
       " (-4.313, 37.694, 15.119),\n",
       " (-4.092, 36.668, 11.469),\n",
       " (-7.13, 35.37, 9.596),\n",
       " (-6.772, 31.738, 10.662),\n",
       " (-9.891, 30.63, 8.803),\n",
       " (-7.631, 30.643, 5.749),\n",
       " (-6.301, 27.286, 6.941),\n",
       " (-9.646, 25.545, 6.518),\n",
       " (-10.616, 27.387, 3.336),\n",
       " (-11.31, 24.625, 0.818),\n",
       " (-12.334, 21.954, 3.322),\n",
       " (-15.341, 19.636, 3.485),\n",
       " (-15.925, 20.154, 7.206)]"
      ]
     },
     "execution_count": 16,
     "metadata": {},
     "output_type": "execute_result"
    }
   ],
   "source": [
    "ca_xyz"
   ]
  },
  {
   "cell_type": "code",
   "execution_count": 10,
   "id": "abcf94a2-81bc-4330-8843-e20fcfc51c71",
   "metadata": {},
   "outputs": [
    {
     "ename": "NameError",
     "evalue": "name 'charge' is not defined",
     "output_type": "error",
     "traceback": [
      "\u001b[0;31m---------------------------------------------------------------------------\u001b[0m",
      "\u001b[0;31mNameError\u001b[0m                                 Traceback (most recent call last)",
      "\u001b[0;32m<ipython-input-10-dc2b3540619f>\u001b[0m in \u001b[0;36m<module>\u001b[0;34m\u001b[0m\n\u001b[1;32m      1\u001b[0m \u001b[0mname_base\u001b[0m \u001b[0;34m=\u001b[0m \u001b[0;34m[\u001b[0m\u001b[0mn\u001b[0m\u001b[0;34m[\u001b[0m\u001b[0;36m0\u001b[0m\u001b[0;34m]\u001b[0m \u001b[0;32mfor\u001b[0m \u001b[0mn\u001b[0m \u001b[0;32min\u001b[0m \u001b[0mname\u001b[0m\u001b[0;34m]\u001b[0m\u001b[0;34m\u001b[0m\u001b[0;34m\u001b[0m\u001b[0m\n\u001b[0;32m----> 2\u001b[0;31m \u001b[0mat_charge\u001b[0m \u001b[0;34m=\u001b[0m \u001b[0;34m[\u001b[0m\u001b[0mcharge\u001b[0m\u001b[0;34m[\u001b[0m\u001b[0mn\u001b[0m\u001b[0;34m]\u001b[0m \u001b[0;32mfor\u001b[0m \u001b[0mn\u001b[0m \u001b[0;32min\u001b[0m \u001b[0mname_base\u001b[0m\u001b[0;34m]\u001b[0m\u001b[0;34m\u001b[0m\u001b[0;34m\u001b[0m\u001b[0m\n\u001b[0m\u001b[1;32m      3\u001b[0m \u001b[0mat_vdw\u001b[0m \u001b[0;34m=\u001b[0m \u001b[0;34m[\u001b[0m\u001b[0;34m]\u001b[0m\u001b[0;34m\u001b[0m\u001b[0;34m\u001b[0m\u001b[0m\n\u001b[1;32m      4\u001b[0m \u001b[0matom_arr\u001b[0m \u001b[0;34m=\u001b[0m \u001b[0;34m[\u001b[0m\u001b[0matom_id\u001b[0m\u001b[0;34m[\u001b[0m\u001b[0mn\u001b[0m\u001b[0;34m]\u001b[0m \u001b[0;32mfor\u001b[0m \u001b[0mn\u001b[0m \u001b[0;32min\u001b[0m \u001b[0mname_base\u001b[0m\u001b[0;34m]\u001b[0m\u001b[0;34m\u001b[0m\u001b[0;34m\u001b[0m\u001b[0m\n\u001b[1;32m      5\u001b[0m \u001b[0;34m\u001b[0m\u001b[0m\n",
      "\u001b[0;32m<ipython-input-10-dc2b3540619f>\u001b[0m in \u001b[0;36m<listcomp>\u001b[0;34m(.0)\u001b[0m\n\u001b[1;32m      1\u001b[0m \u001b[0mname_base\u001b[0m \u001b[0;34m=\u001b[0m \u001b[0;34m[\u001b[0m\u001b[0mn\u001b[0m\u001b[0;34m[\u001b[0m\u001b[0;36m0\u001b[0m\u001b[0;34m]\u001b[0m \u001b[0;32mfor\u001b[0m \u001b[0mn\u001b[0m \u001b[0;32min\u001b[0m \u001b[0mname\u001b[0m\u001b[0;34m]\u001b[0m\u001b[0;34m\u001b[0m\u001b[0;34m\u001b[0m\u001b[0m\n\u001b[0;32m----> 2\u001b[0;31m \u001b[0mat_charge\u001b[0m \u001b[0;34m=\u001b[0m \u001b[0;34m[\u001b[0m\u001b[0mcharge\u001b[0m\u001b[0;34m[\u001b[0m\u001b[0mn\u001b[0m\u001b[0;34m]\u001b[0m \u001b[0;32mfor\u001b[0m \u001b[0mn\u001b[0m \u001b[0;32min\u001b[0m \u001b[0mname_base\u001b[0m\u001b[0;34m]\u001b[0m\u001b[0;34m\u001b[0m\u001b[0;34m\u001b[0m\u001b[0m\n\u001b[0m\u001b[1;32m      3\u001b[0m \u001b[0mat_vdw\u001b[0m \u001b[0;34m=\u001b[0m \u001b[0;34m[\u001b[0m\u001b[0;34m]\u001b[0m\u001b[0;34m\u001b[0m\u001b[0;34m\u001b[0m\u001b[0m\n\u001b[1;32m      4\u001b[0m \u001b[0matom_arr\u001b[0m \u001b[0;34m=\u001b[0m \u001b[0;34m[\u001b[0m\u001b[0matom_id\u001b[0m\u001b[0;34m[\u001b[0m\u001b[0mn\u001b[0m\u001b[0;34m]\u001b[0m \u001b[0;32mfor\u001b[0m \u001b[0mn\u001b[0m \u001b[0;32min\u001b[0m \u001b[0mname_base\u001b[0m\u001b[0;34m]\u001b[0m\u001b[0;34m\u001b[0m\u001b[0;34m\u001b[0m\u001b[0m\n\u001b[1;32m      5\u001b[0m \u001b[0;34m\u001b[0m\u001b[0m\n",
      "\u001b[0;31mNameError\u001b[0m: name 'charge' is not defined"
     ]
    }
   ],
   "source": [
    "name_base = [n[0] for n in name]\n",
    "at_charge = [charge[n] for n in name_base]\n",
    "at_vdw = []\n",
    "atom_arr = [atom_id[n] for n in name_base]\n",
    "\n",
    "at_xyz = th.FloatTensor(atoms)\n",
    "at_dist = th.cdist(at_xyz, at_xyz)\n",
    "at_id = th.LongTensor(atom_arr)\n",
    "at_is_side = th.BoolTensor(is_side_chain)\n",
    "at_is_hba = th.BoolTensor(is_at_hb_a)\n",
    "at_is_hbd = th.BoolTensor(is_at_hb_d)\n",
    "\n",
    "res_id = th.LongTensor(residues)\n",
    "res_xyz = th.FloatTensor(ca_xyz)\n",
    "res_dist = th.cdist(res_xyz, res_xyz)\n",
    "res_cb = th.FloatTensor(cb_xyz)"
   ]
  },
  {
   "cell_type": "code",
   "execution_count": 9,
   "id": "99be6676-73ab-4f00-9f59-ddc9041722b9",
   "metadata": {},
   "outputs": [
    {
     "ename": "NameError",
     "evalue": "name 'res_xyz' is not defined",
     "output_type": "error",
     "traceback": [
      "\u001b[0;31m---------------------------------------------------------------------------\u001b[0m",
      "\u001b[0;31mNameError\u001b[0m                                 Traceback (most recent call last)",
      "\u001b[0;32m<ipython-input-9-be3c2b0eaee2>\u001b[0m in \u001b[0;36m<module>\u001b[0;34m\u001b[0m\n\u001b[0;32m----> 1\u001b[0;31m \u001b[0mres_xyz\u001b[0m\u001b[0;34m\u001b[0m\u001b[0;34m\u001b[0m\u001b[0m\n\u001b[0m",
      "\u001b[0;31mNameError\u001b[0m: name 'res_xyz' is not defined"
     ]
    }
   ],
   "source": [
    "res_xyz"
   ]
  },
  {
   "cell_type": "code",
   "execution_count": null,
   "id": "1e9bee16-f3e5-417e-a9c1-2fc7ed23717b",
   "metadata": {},
   "outputs": [],
   "source": [
    "atat_charge = th.FloatTensor(at_charge).view(-1, 1)\n",
    "atat_charge = atat_charge * th.FloatTensor(at_charge).view(1, -1)\n",
    "\n",
    "at_dist_inv = 1e-6/th.pow(at_dist + 1e-2, 2)"
   ]
  },
  {
   "cell_type": "code",
   "execution_count": null,
   "id": "5cf1fc7c-601a-4351-a179-c9f7d1836f3f",
   "metadata": {
    "tags": []
   },
   "outputs": [],
   "source": [
    "disulfde = (at_id == 4) & (at_dist < 2.2)\n",
    "hydrophobic = (at_dist < 5.0) & (at_is_side == False) & th.BoolTensor(is_res_hf)\n",
    "cation_pi = (at_dist < 6) & th.BoolTensor(is_res_cpi)\n",
    "arg_arg = (at_dist < 5.0) & th.BoolTensor(is_res_arg)\n",
    "hbond = at_is_hba,view(-1, 1) & at_is_hba.view(1, -1)\n",
    "\n",
    "sb_tmp1 = th.BoolTensor(is_at_sb_c1).view(-1, 1) & th.BoolTensor(is_at_sb_c2).view(1, -1)\n",
    "sb_tmp2 = th.BoolTensor(is_res_sb_c1).view(-1, 1) & th.BoolTensor(is_res_sb_c2).view(1, -1)\n",
    "\n",
    "salt_bridge = sb_tmp1 & (at_dist < 5.0) & sb_tmp2\n",
    "\n",
    "feats = th.cat((disulfde.unsqueeze(2),\n",
    "               hydrophobic.unsqueeze(2),\n",
    "               cation_pi.unsqueeze(2),\n",
    "               arg_arg.unsqueeze(2),\n",
    "               salt_bridge.unsqueeze(2),\n",
    "               hbond.unsqueeze(2)), dim=2)\n",
    "feats = feats.float()\n",
    "coulomb_force = at_dist_inv * atat_charge\n",
    "feats = th.cat((feats, \n",
    "                coulomb_force.unsqueeze(2)), dim=2)"
   ]
  },
  {
   "cell_type": "code",
   "execution_count": null,
   "id": "f28f893c-f694-4caa-9e03-392aa051a662",
   "metadata": {},
   "outputs": [],
   "source": [
    "efeat_list = list()\n",
    "first_dim_split = feats.split(res_at_num, 0)\n",
    "for i in range(len(res_at_num)):\n",
    "    efeat_list.extend(list(first_dim_split[i].split(res_at_num, 1)))"
   ]
  },
  {
   "cell_type": "code",
   "execution_count": null,
   "id": "d4c72158-70be-4c9c-8d84-f15a006959f1",
   "metadata": {},
   "outputs": [],
   "source": [
    "u, v = th.where(res_dist < 8)\n",
    "uv = th.where(res_dist.ravel() < 8)[0]"
   ]
  },
  {
   "cell_type": "code",
   "execution_count": null,
   "id": "d285e6c3-91b0-4c93-a48f-dd6d9c3dc0e5",
   "metadata": {},
   "outputs": [],
   "source": [
    "feats_at = th.cat([efeat_list[e].sum((0,1), keepdim=True) for e in uv], dim=0)"
   ]
  },
  {
   "cell_type": "code",
   "execution_count": null,
   "id": "eb388ba0-16c0-449f-b3d2-b5ffbcd0a8f4",
   "metadata": {},
   "outputs": [],
   "source": [
    "feats_at.shape"
   ]
  },
  {
   "cell_type": "code",
   "execution_count": null,
   "id": "c574cd16-d4ee-4026-b354-3be8f35ac381",
   "metadata": {},
   "outputs": [],
   "source": [
    "efeats = th.zeros_like(res_dist)\n"
   ]
  },
  {
   "cell_type": "code",
   "execution_count": null,
   "id": "79428011-57ce-4e59-9cdb-df3953db16df",
   "metadata": {},
   "outputs": [],
   "source": [
    "cb1 = th.linalg.norm(res_cb - res_xyz, dim=1, keepdim=True)\n",
    "cb2 = cb1.clone().swapdims(0, 1)\n",
    "tn_cb12 = cb1 / (cb2 + 1e-2)\n",
    "tn_cb12[th.isnan(tn_cb12)] = -1\n",
    "\n",
    "inv_ca12 = 1/(res_dist - 1e-3)\n",
    "\n",
    "res_id_short = th.arange(0, res_id.max()+1, 1)\n",
    "is_seq = th.abs(res_id_short.unsqueeze(0) - res_id_short.unsqueeze(1))\n",
    "is_self = is_seq == 0\n",
    "is_seq_0 = is_seq == 1\n",
    "is_seq_1 = is_seq == 2\n",
    "is_struct_0 = ~is_seq_0\n",
    "\n",
    "\n",
    "feats_res = th.cat((tn_cb12.unsqueeze(2),\n",
    "                   inv_ca12.unsqueeze(2),\n",
    "                    is_self.unsqueeze(2),\n",
    "                   is_seq_0.unsqueeze(2),\n",
    "                   is_seq_1.unsqueeze(2),\n",
    "                   is_struct_0.unsqueeze(2)), dim=2)\n",
    "feats_res = feats_res[u,v]"
   ]
  },
  {
   "cell_type": "code",
   "execution_count": null,
   "id": "d3e5bf8e-aa0f-4561-9c59-23eb76ce264b",
   "metadata": {},
   "outputs": [],
   "source": [
    "feats_all = th.cat((feats_at.squeeze(), feats_res), dim=-1)"
   ]
  },
  {
   "cell_type": "code",
   "execution_count": null,
   "id": "720a6e94-65eb-42f6-823a-681f434884a7",
   "metadata": {},
   "outputs": [],
   "source": [
    "feats_all.mean(0)"
   ]
  },
  {
   "cell_type": "code",
   "execution_count": null,
   "id": "82e62fc5-5ecb-4db0-a193-90b68f8572bb",
   "metadata": {},
   "outputs": [],
   "source": [
    "dist_where = (dist < 2)\n",
    "res1, res2 = th.nonzero(dist_where, as_tuple=True)"
   ]
  },
  {
   "cell_type": "code",
   "execution_count": null,
   "id": "b476153c-446b-4b9a-ab08-6398f7681dcb",
   "metadata": {},
   "outputs": [],
   "source": [
    "ca_adj = res_dist < 8"
   ]
  },
  {
   "cell_type": "code",
   "execution_count": null,
   "id": "df000ef1-6015-44d3-aae0-ea5460a051cb",
   "metadata": {},
   "outputs": [],
   "source": [
    "th.index_copy_()"
   ]
  },
  {
   "cell_type": "code",
   "execution_count": null,
   "id": "296202b3-1573-43d5-9319-95db59fd4c12",
   "metadata": {},
   "outputs": [],
   "source": [
    "aa1, aa2 = res_num[res1], res_num[res2]\n",
    "at1, at2 = atom_id[res1], atom_id[res2]\n",
    "inter = aa1 != aa2\n",
    "inter1, inter2 = aa1[inter], aa2[inter]"
   ]
  },
  {
   "cell_type": "code",
   "execution_count": null,
   "id": "d458b49f-499a-4d37-880a-27f30db3f789",
   "metadata": {},
   "outputs": [],
   "source": [
    "print('num:', inter.shape)\n",
    "bond_list = list()\n",
    "bond_dict = {i : [] for i in range(num_resid)}\n",
    "for i in range(inter1.shape[0]-1):\n",
    "    rid1, rid2 = inter1[i].item(), inter2[i].item()\n",
    "    atid1, atid2 = at1[i].item(), at2[i].item()\n",
    "    #print(rid1, ' - ', rid2, ': ', INT_AT[atid1], '-',  INT_AT[atid2])\n",
    "    atat_name = INT_AT[atid1]+'-'+INT_AT[atid2]\n",
    "    bond_list.append(atat_name)\n",
    "    bond_dict[rid1].append(atat_name)"
   ]
  },
  {
   "cell_type": "code",
   "execution_count": null,
   "id": "53a6c47c-24fb-4292-bd93-e9ce47a230b4",
   "metadata": {},
   "outputs": [],
   "source": [
    "\n",
    "\n",
    "def bond_to_vector(bond_dict):\n",
    "    stack = list()\n",
    "    for res, bond_list in bond_dict.items():\n",
    "        \n",
    "        bonds_unique = set(bond_list)\n",
    "        bonds = th.zeros(params.num_atat_feats)\n",
    "        \n",
    "        if bonds_unique:\n",
    "            \n",
    "            bonds_id = [params.ATAT_INT[b] for b in bonds_unique if b in params.ATAT_INT]\n",
    "            bonds[bonds_id] = 1\n",
    "        stack.append(bonds.unsqueeze(0))\n",
    "    feats = th.cat(stack, 0)\n",
    "    return feats"
   ]
  },
  {
   "cell_type": "code",
   "execution_count": null,
   "id": "6932c269-2a28-4ad3-b363-122dd263266e",
   "metadata": {},
   "outputs": [],
   "source": []
  },
  {
   "cell_type": "code",
   "execution_count": null,
   "id": "cd01f3b4-af0c-4900-b551-8ace71d81dd2",
   "metadata": {},
   "outputs": [],
   "source": []
  }
 ],
 "metadata": {
  "kernelspec": {
   "display_name": "Python 3",
   "language": "python",
   "name": "python3"
  },
  "language_info": {
   "codemirror_mode": {
    "name": "ipython",
    "version": 3
   },
   "file_extension": ".py",
   "mimetype": "text/x-python",
   "name": "python",
   "nbconvert_exporter": "python",
   "pygments_lexer": "ipython3",
   "version": "3.6.13"
  }
 },
 "nbformat": 4,
 "nbformat_minor": 5
}
