{
 "cells": [
  {
   "cell_type": "code",
   "execution_count": 1,
   "id": "a548eab6-fbd3-47cb-907e-2a2eddf230de",
   "metadata": {},
   "outputs": [
    {
     "data": {
      "text/plain": [
       "[1, 2, 3]"
      ]
     },
     "execution_count": 1,
     "metadata": {},
     "output_type": "execute_result"
    }
   ],
   "source": [
    "[a for a in [1,2,3] if a not in {'OX'}]"
   ]
  },
  {
   "cell_type": "code",
   "execution_count": 16,
   "id": "ac414a5f-f749-4672-9a6f-01d44a61b2e7",
   "metadata": {},
   "outputs": [
    {
     "ename": "SyntaxError",
     "evalue": "invalid syntax (calc.py, line 2)",
     "output_type": "error",
     "traceback": [
      "Traceback \u001b[0;36m(most recent call last)\u001b[0m:\n",
      "  File \u001b[1;32m\"/home/users/kkaminski/anaconda3/envs/rtb/lib/python3.6/site-packages/IPython/core/interactiveshell.py\"\u001b[0m, line \u001b[1;32m3343\u001b[0m, in \u001b[1;35mrun_code\u001b[0m\n    exec(code_obj, self.user_global_ns, self.user_ns)\n",
      "\u001b[0;36m  File \u001b[0;32m\"<ipython-input-16-8ecfdc0c0154>\"\u001b[0;36m, line \u001b[0;32m7\u001b[0;36m, in \u001b[0;35m<module>\u001b[0;36m\u001b[0m\n\u001b[0;31m    import calc\u001b[0m\n",
      "\u001b[0;36m  File \u001b[0;32m\"/home/users/kkaminski/domains/graph_toolbox/feature/calc.py\"\u001b[0;36m, line \u001b[0;32m2\u001b[0m\n\u001b[0;31m    from .params import * as params\u001b[0m\n\u001b[0m                           ^\u001b[0m\n\u001b[0;31mSyntaxError\u001b[0m\u001b[0;31m:\u001b[0m invalid syntax\n"
     ]
    }
   ],
   "source": [
    "import torch as th\n",
    "import itertools\n",
    "import atomium\n",
    "import pandas as pd\n",
    "import params\n",
    "\n",
    "import calc"
   ]
  },
  {
   "cell_type": "code",
   "execution_count": 3,
   "id": "d923eaef-6018-454a-a40b-f119c6736331",
   "metadata": {},
   "outputs": [],
   "source": [
    "data = atomium.fetch('2lyz')\n",
    "data = data.model"
   ]
  },
  {
   "cell_type": "code",
   "execution_count": 4,
   "id": "307aa954-3b86-4620-a568-c4b440d0e2ed",
   "metadata": {},
   "outputs": [],
   "source": [
    "aa_atoms = ['N','C','O','CA','CB','CG','CD','CE','CZ','OD','NH','NE','OG','ND','SG','OE','CH','NZ','OH','SD','OX']\n",
    "\n",
    "AT_INT = {k : i for i,k in enumerate(aa_atoms)}\n",
    "INT_AT = {v:k for k, v in AT_INT.items()}\n",
    "\n",
    "at_at_list = [[f'{at1}-{at2}' for at1 in aa_atoms] for at2 in aa_atoms]\n",
    "AT_AT_name = list(itertools.chain(*at_at_list))\n",
    "ATAT_INT = {k : i for i,k in enumerate(AT_AT_name)}\n",
    "num_atat_feats = len(ATAT_INT)\n"
   ]
  },
  {
   "cell_type": "code",
   "execution_count": 5,
   "id": "f516354c-c786-4e12-8058-4230a885c790",
   "metadata": {},
   "outputs": [],
   "source": [
    "atoms = []\n",
    "name = []\n",
    "CA_xyz = []\n",
    "residues = []\n",
    "i = 0\n",
    "for chain in data.chains():\n",
    "    for res in chain.residues():\n",
    "        for atom in res.atoms():\n",
    "            n = atom.name\n",
    "            if n == 'CA':\n",
    "                CA_xyz.append(atom.location)\n",
    "            elif len(n) == 3:\n",
    "                n = n[:2]\n",
    "            name.append(n)\n",
    "            atoms.append(atom.location)\n",
    "            residues.append(i)\n",
    "        i += 1"
   ]
  },
  {
   "cell_type": "code",
   "execution_count": 6,
   "id": "b7e433da-19ed-40ea-a552-21960ab95093",
   "metadata": {},
   "outputs": [],
   "source": [
    "AT_xyz = th.FloatTensor(atoms)\n",
    "AT_dist = th.cdist(AT_xyz, AT_xyz)"
   ]
  },
  {
   "cell_type": "code",
   "execution_count": 7,
   "id": "79428011-57ce-4e59-9cdb-df3953db16df",
   "metadata": {},
   "outputs": [],
   "source": [
    "num_resid = len(CA_xyz)\n",
    "xyz = th.FloatTensor(atoms)\n",
    "dist = th.cdist(xyz, xyz)\n",
    "res_num = th.LongTensor(residues)\n",
    "atom_id = [AT_INT[at] for at in name]\n",
    "atom_id = th.LongTensor(atom_id)"
   ]
  },
  {
   "cell_type": "code",
   "execution_count": 8,
   "id": "82e62fc5-5ecb-4db0-a193-90b68f8572bb",
   "metadata": {},
   "outputs": [],
   "source": [
    "dist_where = (dist < 2)\n",
    "res1, res2 = th.nonzero(dist_where, as_tuple=True)"
   ]
  },
  {
   "cell_type": "code",
   "execution_count": 9,
   "id": "296202b3-1573-43d5-9319-95db59fd4c12",
   "metadata": {},
   "outputs": [],
   "source": [
    "aa1, aa2 = res_num[res1], res_num[res2]\n",
    "at1, at2 = atom_id[res1], atom_id[res2]\n",
    "inter = aa1 != aa2\n",
    "inter1, inter2 = aa1[inter], aa2[inter]"
   ]
  },
  {
   "cell_type": "code",
   "execution_count": 10,
   "id": "d458b49f-499a-4d37-880a-27f30db3f789",
   "metadata": {},
   "outputs": [
    {
     "name": "stdout",
     "output_type": "stream",
     "text": [
      "num: torch.Size([3059])\n"
     ]
    }
   ],
   "source": [
    "print('num:', inter.shape)\n",
    "bond_list = list()\n",
    "bond_dict = {i : [] for i in range(num_resid)}\n",
    "for i in range(inter1.shape[0]-1):\n",
    "    rid1, rid2 = inter1[i].item(), inter2[i].item()\n",
    "    atid1, atid2 = at1[i].item(), at2[i].item()\n",
    "    #print(rid1, ' - ', rid2, ': ', INT_AT[atid1], '-',  INT_AT[atid2])\n",
    "    atat_name = INT_AT[atid1]+'-'+INT_AT[atid2]\n",
    "    bond_list.append(atat_name)\n",
    "    bond_dict[rid1].append(atat_name)"
   ]
  },
  {
   "cell_type": "code",
   "execution_count": 11,
   "id": "53a6c47c-24fb-4292-bd93-e9ce47a230b4",
   "metadata": {},
   "outputs": [],
   "source": [
    "\n",
    "\n",
    "def bond_to_vector(bond_dict):\n",
    "    stack = list()\n",
    "    for res, bond_list in bond_dict.items():\n",
    "        \n",
    "        bonds_unique = set(bond_list)\n",
    "        bonds = th.zeros(params.num_atat_feats)\n",
    "        \n",
    "        if bonds_unique:\n",
    "            \n",
    "            bonds_id = [params.ATAT_INT[b] for b in bonds_unique if b in params.ATAT_INT]\n",
    "            bonds[bonds_id] = 1\n",
    "        stack.append(bonds.unsqueeze(0))\n",
    "    feats = th.cat(stack, 0)\n",
    "    return feats"
   ]
  },
  {
   "cell_type": "code",
   "execution_count": null,
   "id": "6932c269-2a28-4ad3-b363-122dd263266e",
   "metadata": {},
   "outputs": [],
   "source": []
  },
  {
   "cell_type": "code",
   "execution_count": null,
   "id": "cd01f3b4-af0c-4900-b551-8ace71d81dd2",
   "metadata": {},
   "outputs": [],
   "source": []
  }
 ],
 "metadata": {
  "kernelspec": {
   "display_name": "Python 3",
   "language": "python",
   "name": "python3"
  },
  "language_info": {
   "codemirror_mode": {
    "name": "ipython",
    "version": 3
   },
   "file_extension": ".py",
   "mimetype": "text/x-python",
   "name": "python",
   "nbconvert_exporter": "python",
   "pygments_lexer": "ipython3",
   "version": "3.6.13"
  }
 },
 "nbformat": 4,
 "nbformat_minor": 5
}
